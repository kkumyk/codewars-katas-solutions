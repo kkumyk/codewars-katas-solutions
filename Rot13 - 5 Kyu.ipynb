{
 "cells": [
  {
   "cell_type": "markdown",
   "metadata": {},
   "source": [
    "How can you tell an extrovert from an introvert at NSA? Va gur ryringbef, gur rkgebireg ybbxf ng gur BGURE thl'f fubrf.\n",
    "\n",
    "I found this joke on USENET, but the punchline is scrambled. Maybe you can decipher it? According to Wikipedia, ROT13 (http://en.wikipedia.org/wiki/ROT13) is frequently used to obfuscate jokes on USENET.\n",
    "\n",
    "Hint: For this task you're only supposed to substitue characters. Not spaces, punctuation, numbers etc. Test examples:\n",
    "\n",
    "rot13(\"EBG13 rknzcyr.\") == \"ROT13 example.\";\n",
    "rot13(\"This is my first ROT13 excercise!\" == \"Guvf vf zl svefg EBG13 rkprepvfr!\""
   ]
  },
  {
   "cell_type": "code",
   "execution_count": 6,
   "metadata": {},
   "outputs": [],
   "source": [
    "def rot13(message):\n",
    "    a = ''\n",
    "    for n in message:\n",
    "        \n",
    "        if n.isupper():\n",
    "            if n<='M':\n",
    "                a+=chr(ord(n)+13)\n",
    "            else:\n",
    "                a+=chr(ord(n)-13)\n",
    "                \n",
    "        elif n.islower():\n",
    "            if n<='m':\n",
    "                a+=chr(ord(n)+13)\n",
    "            else:\n",
    "                a+=chr(ord(n)-13)\n",
    "                \n",
    "        else:\n",
    "            a+=n\n",
    "            \n",
    "    return a"
   ]
  },
  {
   "cell_type": "code",
   "execution_count": 9,
   "metadata": {},
   "outputs": [
    {
     "name": "stdout",
     "output_type": "stream",
     "text": [
      "In the elevators,\n",
      "the extrovert looks at the OTHER guy's shoes.\n"
     ]
    }
   ],
   "source": [
    "print(rot13(\"Va gur ryringbef,\\ngur rkgebireg ybbxf ng gur BGURE thl'f fubrf.\"))"
   ]
  },
  {
   "cell_type": "code",
   "execution_count": 10,
   "metadata": {},
   "outputs": [
    {
     "name": "stdout",
     "output_type": "stream",
     "text": [
      "123\n"
     ]
    }
   ],
   "source": [
    "print(rot13(\"123\"))"
   ]
  },
  {
   "cell_type": "code",
   "execution_count": 20,
   "metadata": {},
   "outputs": [
    {
     "name": "stdout",
     "output_type": "stream",
     "text": [
      "This is actually the first kata I ever made. Thanks for finishing it! :)\n"
     ]
    }
   ],
   "source": [
    "print(rot13(\"Guvf vf npghnyyl gur svefg xngn V rire znqr. Gunaxf sbe svavfuvat vg! :)\"))"
   ]
  },
  {
   "cell_type": "code",
   "execution_count": 21,
   "metadata": {},
   "outputs": [
    {
     "name": "stdout",
     "output_type": "stream",
     "text": [
      "@[`{\n"
     ]
    }
   ],
   "source": [
    "print(rot13(\"@[`{\"))"
   ]
  }
 ],
 "metadata": {
  "kernelspec": {
   "display_name": "Python 3",
   "language": "python",
   "name": "python3"
  },
  "language_info": {
   "codemirror_mode": {
    "name": "ipython",
    "version": 3
   },
   "file_extension": ".py",
   "mimetype": "text/x-python",
   "name": "python",
   "nbconvert_exporter": "python",
   "pygments_lexer": "ipython3",
   "version": "3.7.6"
  }
 },
 "nbformat": 4,
 "nbformat_minor": 4
}
