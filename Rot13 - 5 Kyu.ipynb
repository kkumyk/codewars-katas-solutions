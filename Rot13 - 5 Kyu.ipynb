{
 "cells": [
  {
   "cell_type": "markdown",
   "metadata": {},
   "source": [
    "How can you tell an extrovert from an introvert at NSA? Va gur ryringbef, gur rkgebireg ybbxf ng gur BGURE thl'f fubrf.\n",
    "\n",
    "I found this joke on USENET, but the punchline is scrambled. Maybe you can decipher it? According to Wikipedia, ROT13 (http://en.wikipedia.org/wiki/ROT13) is frequently used to obfuscate jokes on USENET.\n",
    "\n",
    "Hint: For this task you're only supposed to substitue characters. Not spaces, punctuation, numbers etc. Test examples:\n",
    "\n",
    "rot13(\"EBG13 rknzcyr.\") == \"ROT13 example.\";\n",
    "rot13(\"This is my first ROT13 excercise!\" == \"Guvf vf zl svefg EBG13 rkprepvfr!\"\n",
    "\n",
    "\n",
    "http://exampleproblems.com/wiki/index.php/ROT13"
   ]
  },
  {
   "cell_type": "code",
   "execution_count": 90,
   "metadata": {},
   "outputs": [],
   "source": [
    "def rot13(message):\n",
    "    a = ''\n",
    "    for n in message:\n",
    "        \n",
    "        if n.isupper(): # string method that checks if the character is in upper case\n",
    "            if n<='M':\n",
    "                a+=chr(ord(n)+13)\n",
    "                #print(a)\n",
    "            else:\n",
    "                a+=chr(ord(n)-13)\n",
    "                print(a)\n",
    "                \n",
    "        elif n.islower():\n",
    "            if n<='m':\n",
    "                a+=chr(ord(n)+13)\n",
    "            else:\n",
    "                a+=chr(ord(n)-13)\n",
    "        else:\n",
    "            a+=n\n",
    "    return a"
   ]
  },
  {
   "cell_type": "code",
   "execution_count": 91,
   "metadata": {},
   "outputs": [
    {
     "name": "stdout",
     "output_type": "stream",
     "text": [
      "I\n",
      "In the elevators, the extrovert looks at the OTH\n",
      "In the elevators, the extrovert looks at the OTHE\n",
      "In the elevators, the extrovert looks at the OTHER guy's shoes.\n"
     ]
    }
   ],
   "source": [
    "print(rot13(\"Va gur ryringbef, gur rkgebireg ybbxf ng gur BGURE thl'f fubrf.\"))"
   ]
  },
  {
   "cell_type": "code",
   "execution_count": 94,
   "metadata": {},
   "outputs": [
    {
     "data": {
      "text/plain": [
       "'M'"
      ]
     },
     "execution_count": 94,
     "metadata": {},
     "output_type": "execute_result"
    }
   ],
   "source": [
    "n = \"M\"\n",
    "a =chr(ord(n))\n",
    "a"
   ]
  },
  {
   "cell_type": "code",
   "execution_count": null,
   "metadata": {},
   "outputs": [],
   "source": []
  },
  {
   "cell_type": "code",
   "execution_count": 9,
   "metadata": {},
   "outputs": [
    {
     "name": "stdout",
     "output_type": "stream",
     "text": [
      "In the elevators,\n",
      "the extrovert looks at the OTHER guy's shoes.\n"
     ]
    }
   ],
   "source": [
    "print(rot13(\"Va gur ryringbef,\\ngur rkgebireg ybbxf ng gur BGURE thl'f fubrf.\"))"
   ]
  },
  {
   "cell_type": "code",
   "execution_count": 10,
   "metadata": {},
   "outputs": [
    {
     "name": "stdout",
     "output_type": "stream",
     "text": [
      "123\n"
     ]
    }
   ],
   "source": [
    "print(rot13(\"123\"))"
   ]
  },
  {
   "cell_type": "code",
   "execution_count": 20,
   "metadata": {},
   "outputs": [
    {
     "name": "stdout",
     "output_type": "stream",
     "text": [
      "This is actually the first kata I ever made. Thanks for finishing it! :)\n"
     ]
    }
   ],
   "source": [
    "print(rot13(\"Guvf vf npghnyyl gur svefg xngn V rire znqr. Gunaxf sbe svavfuvat vg! :)\"))"
   ]
  },
  {
   "cell_type": "code",
   "execution_count": 21,
   "metadata": {},
   "outputs": [
    {
     "name": "stdout",
     "output_type": "stream",
     "text": [
      "@[`{\n"
     ]
    }
   ],
   "source": [
    "print(rot13(\"@[`{\"))"
   ]
  },
  {
   "cell_type": "markdown",
   "metadata": {},
   "source": [
    "Python <b>chr()</b> Function\n",
    "\n",
    "Get the character that represents the unicode 97:\n",
    "\n",
    "x = chr(97)\n",
    "\n",
    "Syntax: chr(number)"
   ]
  },
  {
   "cell_type": "code",
   "execution_count": 4,
   "metadata": {
    "scrolled": true
   },
   "outputs": [
    {
     "name": "stdout",
     "output_type": "stream",
     "text": [
      "a\n"
     ]
    }
   ],
   "source": [
    "x = chr(97)\n",
    "print(x)"
   ]
  },
  {
   "cell_type": "markdown",
   "metadata": {},
   "source": [
    "Convert back to unicode with the Python <b>ord()</b> function - returns the number representing the unicode code of a specified character.\n",
    "\n",
    "Syntax: ord(character)\n",
    "\n",
    "Return the integer that represents the character \"E\":"
   ]
  },
  {
   "cell_type": "code",
   "execution_count": 79,
   "metadata": {},
   "outputs": [
    {
     "data": {
      "text/plain": [
       "69"
      ]
     },
     "execution_count": 79,
     "metadata": {},
     "output_type": "execute_result"
    }
   ],
   "source": [
    "x = ord(\"E\")\n",
    "x"
   ]
  },
  {
   "cell_type": "code",
   "execution_count": 34,
   "metadata": {
    "scrolled": true
   },
   "outputs": [
    {
     "data": {
      "text/plain": [
       "97"
      ]
     },
     "execution_count": 34,
     "metadata": {},
     "output_type": "execute_result"
    }
   ],
   "source": [
    "x = chr(97)\n",
    "ord(x)"
   ]
  },
  {
   "cell_type": "code",
   "execution_count": null,
   "metadata": {},
   "outputs": [],
   "source": []
  }
 ],
 "metadata": {
  "kernelspec": {
   "display_name": "Python 3",
   "language": "python",
   "name": "python3"
  },
  "language_info": {
   "codemirror_mode": {
    "name": "ipython",
    "version": 3
   },
   "file_extension": ".py",
   "mimetype": "text/x-python",
   "name": "python",
   "nbconvert_exporter": "python",
   "pygments_lexer": "ipython3",
   "version": "3.7.6"
  }
 },
 "nbformat": 4,
 "nbformat_minor": 4
}
