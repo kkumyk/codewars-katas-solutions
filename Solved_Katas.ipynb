{
 "cells": [
  {
   "cell_type": "markdown",
   "metadata": {},
   "source": [
    "TODO:\n",
    "\n",
    "https://www.codewars.com/kata/5f5802bf4c2cc4001a6f859e/train/python\n",
    "\n",
    "https://www.codewars.com/kata/5f8a15c06dbd530016be0c19\n",
    "\n",
    "https://www.codewars.com/kata/5b047875de4c7f9af800011b\n",
    "\n",
    "https://www.codewars.com/kata/5f709c8fb0d88300292a7a9d/train/python"
   ]
  },
  {
   "cell_type": "markdown",
   "metadata": {},
   "source": [
    "# Is your period late? - 8Kyu\n",
    "https://www.codewars.com/kata/578a8a01e9fd1549e50001f1/"
   ]
  },
  {
   "cell_type": "code",
   "execution_count": 24,
   "metadata": {},
   "outputs": [
    {
     "data": {
      "text/plain": [
       "False"
      ]
     },
     "execution_count": 24,
     "metadata": {},
     "output_type": "execute_result"
    }
   ],
   "source": [
    "from datetime import date\n",
    "\n",
    "def period_is_late(last,today,cycle_length):\n",
    "    delta = today - last\n",
    "    return delta.days > cycle_length\n",
    "\n",
    "period_is_late(date(2016, 6, 13), date(2016, 7, 16), 35)"
   ]
  },
  {
   "cell_type": "code",
   "execution_count": 19,
   "metadata": {},
   "outputs": [
    {
     "data": {
      "text/plain": [
       "True"
      ]
     },
     "execution_count": 19,
     "metadata": {},
     "output_type": "execute_result"
    }
   ],
   "source": [
    "def check_the_bucket(bucket):\n",
    "    if 'gold' in bucket:\n",
    "        return True\n",
    "    else:\n",
    "        return False\n",
    "    \n",
    "check_the_bucket(['stone', 'stone', 'gold', 'stone', 'stone',])"
   ]
  },
  {
   "cell_type": "markdown",
   "metadata": {},
   "source": [
    "# ASCII letters from Number - 7Kyu"
   ]
  },
  {
   "cell_type": "code",
   "execution_count": 16,
   "metadata": {},
   "outputs": [
    {
     "data": {
      "text/plain": [
       "'\\x1748\\r\\x02'"
      ]
     },
     "execution_count": 16,
     "metadata": {},
     "output_type": "execute_result"
    }
   ],
   "source": [
    "def convert(number):\n",
    "    n = 2\n",
    "    return ''.join([chr(int(number[i:i+n])) for i in range(0, len(number), n)])\n",
    "\n",
    "convert('235256132')"
   ]
  },
  {
   "cell_type": "markdown",
   "metadata": {},
   "source": [
    "# Largest pair sum in array - 7Kyu"
   ]
  },
  {
   "cell_type": "code",
   "execution_count": 38,
   "metadata": {},
   "outputs": [
    {
     "data": {
      "text/plain": [
       "42"
      ]
     },
     "execution_count": 38,
     "metadata": {},
     "output_type": "execute_result"
    }
   ],
   "source": [
    "def largest_pair_sum(numbers): \n",
    "    sorted_list = sorted(numbers, reverse = True)\n",
    "    return sorted_list[0] + sorted_list[1]\n",
    "\n",
    "largest_pair_sum([10,14,2,23,19])"
   ]
  },
  {
   "cell_type": "markdown",
   "metadata": {},
   "source": [
    "# Character Concatenation - 7Kyu"
   ]
  },
  {
   "cell_type": "code",
   "execution_count": 24,
   "metadata": {},
   "outputs": [
    {
     "data": {
      "text/plain": [
       "'af1be2cd3'"
      ]
     },
     "execution_count": 24,
     "metadata": {},
     "output_type": "execute_result"
    }
   ],
   "source": [
    "def char_concat(word):\n",
    "    res = ''\n",
    "    for i in range(len(word) // 2):\n",
    "        res += word[i] + word[-1-i] + str(i+1)\n",
    "\n",
    "    return res\n",
    "\n",
    "char_concat(\"abcdef\")"
   ]
  },
  {
   "cell_type": "markdown",
   "metadata": {},
   "source": [
    "# Return a sorted list of objects - 7Kyu"
   ]
  },
  {
   "cell_type": "code",
   "execution_count": 12,
   "metadata": {},
   "outputs": [],
   "source": [
    "def sort_list(sort_by, lst):\n",
    "    return sorted(lst, key=lambda d: d[sort_by], reverse=True)"
   ]
  },
  {
   "cell_type": "markdown",
   "metadata": {},
   "source": [
    "# Fix your code before the garden dies!  - 8Kyu\n",
    "https://www.codewars.com/kata/57158fb92ad763bb180004e7/"
   ]
  },
  {
   "cell_type": "code",
   "execution_count": 10,
   "metadata": {},
   "outputs": [],
   "source": [
    "def rain_amount(mm):\n",
    "    if mm < 40:\n",
    "        water_needed = 40 - int(mm)\n",
    "        return \"You need to give your plant \" + str(water_needed) + \"mm of water\"\n",
    "    else:\n",
    "         return \"Your plant has had more than enough water for today!\""
   ]
  },
  {
   "cell_type": "markdown",
   "metadata": {},
   "source": [
    "# Plural - 8Kyu\n",
    "https://www.codewars.com/kata/52ceafd1f235ce81aa00073a/"
   ]
  },
  {
   "cell_type": "code",
   "execution_count": 8,
   "metadata": {},
   "outputs": [
    {
     "data": {
      "text/plain": [
       "True"
      ]
     },
     "execution_count": 8,
     "metadata": {},
     "output_type": "execute_result"
    }
   ],
   "source": [
    "def plural(n):\n",
    "    if n >= 2:\n",
    "        return True\n",
    "    elif n == 0:\n",
    "        return True\n",
    "    else:\n",
    "        return False\n",
    "    \n",
    "plural(1234)"
   ]
  },
  {
   "cell_type": "markdown",
   "metadata": {},
   "source": [
    "# Name Your Python! - 8Kyu\n",
    "https://www.codewars.com/kata/53cf459503f9bbb774000003/"
   ]
  },
  {
   "cell_type": "code",
   "execution_count": 4,
   "metadata": {},
   "outputs": [],
   "source": [
    "class Python:\n",
    "    def __init__(self, name):\n",
    "        self.name = name"
   ]
  },
  {
   "cell_type": "markdown",
   "metadata": {},
   "source": [
    "# Unusual Five - 8Kyu"
   ]
  },
  {
   "cell_type": "code",
   "execution_count": 5,
   "metadata": {},
   "outputs": [
    {
     "data": {
      "text/plain": [
       "5"
      ]
     },
     "execution_count": 5,
     "metadata": {},
     "output_type": "execute_result"
    }
   ],
   "source": [
    "def unusual_five():\n",
    "    return len(\"five!\")\n",
    "unusual_five()"
   ]
  },
  {
   "cell_type": "markdown",
   "metadata": {},
   "source": [
    "# Elevator distance - 7Kyu\n",
    "https://www.codewars.com/kata/59f061773e532d0c87000d16/"
   ]
  },
  {
   "cell_type": "code",
   "execution_count": 66,
   "metadata": {},
   "outputs": [
    {
     "data": {
      "text/plain": [
       "16"
      ]
     },
     "execution_count": 66,
     "metadata": {},
     "output_type": "execute_result"
    }
   ],
   "source": [
    "def elevator_distance(array):\n",
    "    dist = 0\n",
    "    for i in range(len(array)-1):\n",
    "        dist += abs(array[i] - array[i+1])\n",
    "    return dist\n",
    "\n",
    "elevator_distance([5,2,8,1])"
   ]
  },
  {
   "cell_type": "markdown",
   "metadata": {},
   "source": [
    "# Drink about - 8Kyu\n",
    "https://www.codewars.com/kata/56170e844da7c6f647000063"
   ]
  },
  {
   "cell_type": "code",
   "execution_count": 1,
   "metadata": {},
   "outputs": [
    {
     "data": {
      "text/plain": [
       "'drink whisky'"
      ]
     },
     "execution_count": 1,
     "metadata": {},
     "output_type": "execute_result"
    }
   ],
   "source": [
    "def people_with_age_drink(age):\n",
    "\n",
    "    if age < 14:\n",
    "        return \"drink toddy\"\n",
    "    elif age < 18:\n",
    "        return \"drink coke\"\n",
    "    elif age < 21:\n",
    "        return \"drink beer\"\n",
    "    else:\n",
    "        return \"drink whisky\"\n",
    "people_with_age_drink(105)"
   ]
  },
  {
   "cell_type": "markdown",
   "metadata": {},
   "source": [
    "# Can we divide it? - 8Kyu\n",
    "https://www.codewars.com/kata/5a2b703dc5e2845c0900005a/"
   ]
  },
  {
   "cell_type": "code",
   "execution_count": 30,
   "metadata": {},
   "outputs": [
    {
     "data": {
      "text/plain": [
       "True"
      ]
     },
     "execution_count": 30,
     "metadata": {},
     "output_type": "execute_result"
    }
   ],
   "source": [
    "def is_divide_by(number, a, b):\n",
    "    if number%a ==0 and number%b ==0:\n",
    "        return True\n",
    "    else:\n",
    "        return False\n",
    "is_divide_by(8, 2, 4)"
   ]
  },
  {
   "cell_type": "markdown",
   "metadata": {},
   "source": [
    "# What is between? - 8Kyu\n",
    "https://www.codewars.com/kata/55ecd718f46fba02e5000029/"
   ]
  },
  {
   "cell_type": "code",
   "execution_count": 27,
   "metadata": {},
   "outputs": [
    {
     "data": {
      "text/plain": [
       "[3, 4, 5, 6, 7, 8, 9]"
      ]
     },
     "execution_count": 27,
     "metadata": {},
     "output_type": "execute_result"
    }
   ],
   "source": [
    "def between(a,b):\n",
    "    result = []\n",
    "    for n in range(a,b+1):\n",
    "        result.append(n)\n",
    "    return result\n",
    "between(3,9)"
   ]
  },
  {
   "cell_type": "markdown",
   "metadata": {},
   "source": [
    "# Double Every Other - 7Kyu\n",
    "https://www.codewars.com/kata/5809c661f15835266900010a/"
   ]
  },
  {
   "cell_type": "code",
   "execution_count": 18,
   "metadata": {},
   "outputs": [
    {
     "data": {
      "text/plain": [
       "[1, 38, 6, 4, 12, -6]"
      ]
     },
     "execution_count": 18,
     "metadata": {},
     "output_type": "execute_result"
    }
   ],
   "source": [
    "def double_every_other(lst):  \n",
    "    \n",
    "    new_lst = [2*n if i%2 else n for i,n in enumerate(lst)]\n",
    "    \n",
    "    return new_lst\n",
    "\n",
    "double_every_other([1,19,6,2,12,-3])"
   ]
  },
  {
   "cell_type": "code",
   "execution_count": 25,
   "metadata": {},
   "outputs": [
    {
     "name": "stdout",
     "output_type": "stream",
     "text": [
      "0 1\n",
      "1 19\n",
      "2 6\n",
      "3 2\n",
      "4 12\n",
      "5 -3\n"
     ]
    },
    {
     "data": {
      "text/plain": [
       "[None, None, None, None, None, None]"
      ]
     },
     "execution_count": 25,
     "metadata": {},
     "output_type": "execute_result"
    }
   ],
   "source": [
    "l = [1,19,6,2,12,-3]\n",
    "[print(i, n) for i,n in enumerate(l)]\n"
   ]
  },
  {
   "cell_type": "markdown",
   "metadata": {},
   "source": [
    "# Count Odd Numbers below n - 8Kyu\n",
    "https://www.codewars.com/kata/59342039eb450e39970000a6/"
   ]
  },
  {
   "cell_type": "code",
   "execution_count": 64,
   "metadata": {},
   "outputs": [
    {
     "data": {
      "text/plain": [
       "11731817281"
      ]
     },
     "execution_count": 64,
     "metadata": {},
     "output_type": "execute_result"
    }
   ],
   "source": [
    "def odd_count(n):\n",
    "    return int(n / 2)\n",
    "\n",
    "odd_count(23463634562)"
   ]
  },
  {
   "cell_type": "markdown",
   "metadata": {},
   "source": [
    "# ASCII Total - 8Kyu\n",
    "https://www.codewars.com/kata/572b6b2772a38bc1e700007a/\n",
    "\n",
    "The ord() function returns the number representing the unicode code of a specified character."
   ]
  },
  {
   "cell_type": "code",
   "execution_count": 65,
   "metadata": {},
   "outputs": [
    {
     "data": {
      "text/plain": [
       "207"
      ]
     },
     "execution_count": 65,
     "metadata": {},
     "output_type": "execute_result"
    }
   ],
   "source": [
    "def uni_total(s):\n",
    "    sum = 0\n",
    "    for l in s:\n",
    "        sum += ord(l)\n",
    "    return sum\n",
    "uni_total('3435')"
   ]
  },
  {
   "cell_type": "markdown",
   "metadata": {},
   "source": [
    "# Check same case - 8Kyu\n",
    "https://www.codewars.com/kata/5dd462a573ee6d0014ce715b/"
   ]
  },
  {
   "cell_type": "code",
   "execution_count": 2,
   "metadata": {},
   "outputs": [
    {
     "data": {
      "text/plain": [
       "1"
      ]
     },
     "execution_count": 2,
     "metadata": {},
     "output_type": "execute_result"
    }
   ],
   "source": [
    "def same_case(a, b):\n",
    "    \n",
    "    if a.isalpha() != True or b.isalpha() != True:\n",
    "        return -1\n",
    "    elif a == a.lower() and b == b.lower():\n",
    "        return 1\n",
    "    elif a != a.lower() and b != b.lower():\n",
    "        return 1\n",
    "    else:\n",
    "        return 0\n",
    "\n",
    "same_case('C', 'B')"
   ]
  },
  {
   "cell_type": "markdown",
   "metadata": {},
   "source": [
    "# Multiplication table for number - 8Kyu\n",
    "https://www.codewars.com/kata/5a2fd38b55519ed98f0000ce"
   ]
  },
  {
   "cell_type": "code",
   "execution_count": 225,
   "metadata": {},
   "outputs": [
    {
     "data": {
      "text/plain": [
       "'1 * 5 = 5\\n2 * 5 = 10\\n3 * 5 = 15\\n4 * 5 = 20\\n5 * 5 = 25\\n6 * 5 = 30\\n7 * 5 = 35\\n8 * 5 = 40\\n9 * 5 = 45\\n10 * 5 = 50'"
      ]
     },
     "execution_count": 225,
     "metadata": {},
     "output_type": "execute_result"
    }
   ],
   "source": [
    "def multi_table(number):\n",
    "    nums_to_mult = []\n",
    "    for i in range(1,11):\n",
    "        nums_to_mult.append(str(i) +' * {}'.format(str(number))) \n",
    "        \n",
    "    nums = []\n",
    "    for s in nums_to_mult:\n",
    "        nums.append(s[:2].rstrip())\n",
    "    \n",
    "    answers = []\n",
    "    for a in nums:\n",
    "        answers.append(int(a[:2])* number)\n",
    "\n",
    "    res = nums_to_mult[0] + ' = ' + str(answers[0])  +'\\n' +nums_to_mult[1] + ' = ' + str(answers[1])  +'\\n'+nums_to_mult[2] + ' = ' + str(answers[2])+'\\n'+nums_to_mult[3] + ' = ' + str(answers[3])  +'\\n'+nums_to_mult[4] + ' = ' + str(answers[4])  +'\\n'+nums_to_mult[5] + ' = ' + str(answers[5])  +'\\n'+nums_to_mult[6] + ' = ' + str(answers[6])  +'\\n'+nums_to_mult[7] + ' = ' + str(answers[7])  +'\\n'+nums_to_mult[8] + ' = ' + str(answers[8])  +'\\n'+nums_to_mult[9] + ' = ' + str(answers[9])    \n",
    "    return res\n",
    "    \n",
    "multi_table(5)"
   ]
  },
  {
   "cell_type": "code",
   "execution_count": null,
   "metadata": {},
   "outputs": [],
   "source": [
    "    return  '1 * {} = 5\\n2 * {} = 10\\n3 * {} = 15\\n4 * {} = 20\\n5 * {} = 25\\n\n",
    "     6 * {} = 30\\n7 * {} = 35\\n8 * {} = 40\\n9 * {} = 45\\n10 * {} = 50'.format(number)"
   ]
  },
  {
   "cell_type": "code",
   "execution_count": null,
   "metadata": {},
   "outputs": [],
   "source": []
  },
  {
   "cell_type": "code",
   "execution_count": 72,
   "metadata": {},
   "outputs": [
    {
     "data": {
      "text/plain": [
       "10"
      ]
     },
     "execution_count": 72,
     "metadata": {},
     "output_type": "execute_result"
    }
   ],
   "source": [
    "s = '2 * {}'.format(5)\n",
    "#print(s)\n",
    "g = int(s[0])*int(s[4])\n",
    "g\n",
    "#f\n",
    "#d = int(s[4])"
   ]
  },
  {
   "cell_type": "markdown",
   "metadata": {},
   "source": [
    "# Return Two Highest Values in List - 8Kyu\n",
    "https://www.codewars.com/kata/57ab3c09bb994429df000a4a/"
   ]
  },
  {
   "cell_type": "code",
   "execution_count": 26,
   "metadata": {},
   "outputs": [
    {
     "data": {
      "text/plain": [
       "[20, 17]"
      ]
     },
     "execution_count": 26,
     "metadata": {},
     "output_type": "execute_result"
    }
   ],
   "source": [
    "def two_highest(arg1):\n",
    "    \n",
    "    sorted_list = sorted(arg1, reverse = True)\n",
    "    unique_list_values = list(dict.fromkeys(sorted_list))\n",
    "    \n",
    "    return unique_list_values[0:2]\n",
    "\n",
    "two_highest([15, 20, 20, 17])"
   ]
  },
  {
   "cell_type": "markdown",
   "metadata": {},
   "source": [
    "# Define a card suit\n",
    "https://www.codewars.com/kata/5a360620f28b82a711000047/"
   ]
  },
  {
   "cell_type": "code",
   "execution_count": 12,
   "metadata": {},
   "outputs": [
    {
     "data": {
      "text/plain": [
       "'clubs'"
      ]
     },
     "execution_count": 12,
     "metadata": {},
     "output_type": "execute_result"
    }
   ],
   "source": [
    "def define_suit(card):\n",
    "    \n",
    "    res = ''\n",
    "    \n",
    "    if card[-1].lower() == 'c':\n",
    "        res += 'clubs'\n",
    "    elif card[-1].lower() == 'd':\n",
    "        res += 'diamonds'\n",
    "    elif card[-1].lower() == 'h':\n",
    "        res +='hearts'\n",
    "    elif card[-1].lower() == 's':\n",
    "        res +='spades'\n",
    "    return res\n",
    "\n",
    "define_suit('3C')"
   ]
  },
  {
   "cell_type": "markdown",
   "metadata": {},
   "source": [
    "# Twice as old - 8Kyu\n",
    "https://www.codewars.com/kata/5b853229cfde412a470000d0"
   ]
  },
  {
   "cell_type": "code",
   "execution_count": 4,
   "metadata": {},
   "outputs": [
    {
     "data": {
      "text/plain": [
       "22"
      ]
     },
     "execution_count": 4,
     "metadata": {},
     "output_type": "execute_result"
    }
   ],
   "source": [
    "def twice_as_old(dad_years_old, son_years_old):\n",
    "    \n",
    "    double_age = son_years_old * 2\n",
    "    years = dad_years_old - double_age\n",
    "    \n",
    "    if years > 0:\n",
    "        return years\n",
    "    else:\n",
    "        return double_age - dad_years_old\n",
    "    \n",
    "twice_as_old(36,7)"
   ]
  },
  {
   "cell_type": "code",
   "execution_count": 6,
   "metadata": {},
   "outputs": [
    {
     "data": {
      "text/plain": [
       "22"
      ]
     },
     "execution_count": 6,
     "metadata": {},
     "output_type": "execute_result"
    }
   ],
   "source": [
    "# a better solution would be to use abs() function which returns the absolute value of a number\n",
    "def twice_as_old(dad_years_old, son_years_old):\n",
    "    return abs(dad_years_old - 2*son_years_old)\n",
    "\n",
    "twice_as_old(36,7)"
   ]
  },
  {
   "cell_type": "markdown",
   "metadata": {},
   "source": [
    "# Parse nice int from char problem - 8Kyu"
   ]
  },
  {
   "cell_type": "code",
   "execution_count": 32,
   "metadata": {
    "scrolled": true
   },
   "outputs": [
    {
     "data": {
      "text/plain": [
       "2"
      ]
     },
     "execution_count": 32,
     "metadata": {},
     "output_type": "execute_result"
    }
   ],
   "source": [
    "def get_age(age):\n",
    "    chars = []\n",
    "    for char in age:\n",
    "        chars.append(char)\n",
    "        return int(age[0])\n",
    "get_age(\"2 years old\")"
   ]
  },
  {
   "cell_type": "markdown",
   "metadata": {},
   "source": [
    "# Extract the domain name from a URL - 5Kyu\n",
    "https://www.codewars.com/kata/514a024011ea4fb54200004b/"
   ]
  },
  {
   "cell_type": "code",
   "execution_count": 25,
   "metadata": {},
   "outputs": [
    {
     "data": {
      "text/plain": [
       "'zombie-bites'"
      ]
     },
     "execution_count": 25,
     "metadata": {},
     "output_type": "execute_result"
    }
   ],
   "source": [
    "def domain_name(url):\n",
    "    # The split() method splits a string into a list.\n",
    "    # You can specify the separator, default separator is any whitespace.\n",
    "    \n",
    "    domain_name = url.split('//')[-1].split('/')[0].split('.')\n",
    "    if domain_name[0] == 'www':\n",
    "        return domain_name[1]\n",
    "    else:\n",
    "        return domain_name[0]\n",
    "\n",
    "domain_name(\"http://www.zombie-bites.com\")"
   ]
  },
  {
   "cell_type": "code",
   "execution_count": 10,
   "metadata": {},
   "outputs": [
    {
     "data": {
      "text/plain": [
       "'zombie-bites'"
      ]
     },
     "execution_count": 10,
     "metadata": {},
     "output_type": "execute_result"
    }
   ],
   "source": [
    "def domain_name(url):\n",
    "    return url.split(\"//\")[-1].split(\"www.\")[-1].split(\".\")[0]\n",
    "\n",
    "domain_name(\"http://www.zombie-bites.com\")"
   ]
  },
  {
   "cell_type": "markdown",
   "metadata": {},
   "source": [
    "# List Filtering - 7Kyu\n",
    "https://www.codewars.com/kata/53dbd5315a3c69eed20002dd/"
   ]
  },
  {
   "cell_type": "code",
   "execution_count": 9,
   "metadata": {},
   "outputs": [],
   "source": [
    "def filter_list(l):\n",
    "    res = []\n",
    "    for i in l:\n",
    "        if type(i) == int:\n",
    "            res.append(i)\n",
    "    return res"
   ]
  },
  {
   "cell_type": "code",
   "execution_count": 10,
   "metadata": {},
   "outputs": [],
   "source": [
    "def filter_list(l):\n",
    "#return a new list with the strings filtered out\n",
    "#The isinstance() function returns True \n",
    "#if the specified object is of the specified type, otherwise False.\n",
    "  return [i for i in l if not isinstance(i, str)]"
   ]
  },
  {
   "cell_type": "markdown",
   "metadata": {},
   "source": [
    "# Square Every Digit - 7Kyu\n",
    "https://www.codewars.com/kata/546e2562b03326a88e000020/"
   ]
  },
  {
   "cell_type": "code",
   "execution_count": 8,
   "metadata": {},
   "outputs": [],
   "source": [
    "def square_digits(num):\n",
    "    res = ''\n",
    "    for n in str(num):\n",
    "        res += str(int(n)**2)\n",
    "    return int(res)"
   ]
  },
  {
   "cell_type": "markdown",
   "metadata": {},
   "source": [
    "# Calculate BMI - 8Kyu\n",
    "https://www.codewars.com/kata/57a429e253ba3381850000fb/solutions/python\n"
   ]
  },
  {
   "cell_type": "code",
   "execution_count": 6,
   "metadata": {},
   "outputs": [],
   "source": [
    "def bmi(weight, height):\n",
    "    bmi = weight/(height*height)\n",
    "    if bmi <=18.5:\n",
    "        return \"Underweight\"\n",
    "    elif bmi <= 25.0:\n",
    "        return \"Normal\"\n",
    "    elif bmi <= 30.0 :\n",
    "        return \"Overweight\"\n",
    "    else:\n",
    "        return \"Obese\""
   ]
  },
  {
   "cell_type": "markdown",
   "metadata": {},
   "source": [
    "# Fake Binary - 8Kyu"
   ]
  },
  {
   "cell_type": "code",
   "execution_count": 7,
   "metadata": {},
   "outputs": [],
   "source": [
    "def fake_bin(x):\n",
    "    res =\"\"\n",
    "    for n in x:\n",
    "        if int(n)<5:\n",
    "            res += str(0)\n",
    "        else:\n",
    "            res += str(1)\n",
    "    return res"
   ]
  },
  {
   "cell_type": "markdown",
   "metadata": {},
   "source": [
    "  "
   ]
  },
  {
   "cell_type": "markdown",
   "metadata": {},
   "source": [
    "# Beginner Series #1 School Paperwork - 8Kyu"
   ]
  },
  {
   "cell_type": "code",
   "execution_count": 3,
   "metadata": {},
   "outputs": [],
   "source": [
    "def paperwork(n, m):\n",
    "    if n<0 or m<0:\n",
    "        return 0\n",
    "    else:\n",
    "        return n*m"
   ]
  },
  {
   "cell_type": "code",
   "execution_count": 4,
   "metadata": {},
   "outputs": [],
   "source": [
    "def paperwork(n, m):\n",
    "    return n * m if n > 0 and m > 0 else 0"
   ]
  },
  {
   "cell_type": "markdown",
   "metadata": {},
   "source": [
    " "
   ]
  },
  {
   "cell_type": "markdown",
   "metadata": {},
   "source": [
    "# A Needle in the Haystack - 8Kyu\n",
    "\n",
    "https://www.codewars.com/kata/56676e8fabd2d1ff3000000c/solutions/python"
   ]
  },
  {
   "cell_type": "code",
   "execution_count": 12,
   "metadata": {},
   "outputs": [
    {
     "data": {
      "text/plain": [
       "'found the needle at position 5'"
      ]
     },
     "execution_count": 12,
     "metadata": {},
     "output_type": "execute_result"
    }
   ],
   "source": [
    "# test test\n",
    "\n",
    "def find_needle(haystack):\n",
    "    for n in haystack:\n",
    "        if n=='needle':\n",
    "            # he index() method returns the position at the first occurrence \n",
    "            # of the specified value.\n",
    "            return 'found the needle at position ' + str(haystack.index('needle'))\n",
    "        \n",
    "find_needle(['hay', 'junk', 'hay', 'hay', 'moreJunk', 'needle', 'randomJunk'])"
   ]
  },
  {
   "cell_type": "markdown",
   "metadata": {},
   "source": [
    "  "
   ]
  },
  {
   "cell_type": "markdown",
   "metadata": {},
   "source": [
    "# Convert number to reversed array of digits - 8Kyu\n",
    "\n",
    "https://www.codewars.com/kata/5583090cbe83f4fd8c000051/solutions/python"
   ]
  },
  {
   "cell_type": "code",
   "execution_count": 4,
   "metadata": {},
   "outputs": [
    {
     "data": {
      "text/plain": [
       "[1, 3, 2, 5, 3]"
      ]
     },
     "execution_count": 4,
     "metadata": {},
     "output_type": "execute_result"
    }
   ],
   "source": [
    "def digitize(n):\n",
    "    string_list =[]\n",
    "    for i in str(n):\n",
    "        string_list += i\n",
    "    \n",
    "    # The map() function executes a specified function for each item in an iterable.\n",
    "    # The item is sent to the function as a parameter.\n",
    "    # map(function, iterables) \n",
    "    integer_map = map(int, string_list) # the map f turns each str in the list into integer\n",
    "    integer_list = list(integer_map)\n",
    "    # Reverse a List Using Slicing Operator [::-1] \n",
    "    return integer_list[::-1]\n",
    "\n",
    "digitize(35231)"
   ]
  },
  {
   "cell_type": "code",
   "execution_count": 10,
   "metadata": {},
   "outputs": [
    {
     "data": {
      "text/plain": [
       "['hay', 'junk', 'hay', 'hay', 'moreJunk', 'needle', 'randomJunk']"
      ]
     },
     "execution_count": 10,
     "metadata": {},
     "output_type": "execute_result"
    }
   ],
   "source": [
    "# a[start:stop:step]\n",
    "# a[::-1]  all items in the array, reversed\n",
    "\n",
    "haystack = ['hay', 'junk', 'hay', 'hay', 'moreJunk', 'needle', 'randomJunk']\n",
    "\n",
    "haystack[:]"
   ]
  },
  {
   "cell_type": "code",
   "execution_count": 10,
   "metadata": {},
   "outputs": [
    {
     "data": {
      "text/plain": [
       "[1, 3, 2, 5, 3]"
      ]
     },
     "execution_count": 10,
     "metadata": {},
     "output_type": "execute_result"
    }
   ],
   "source": [
    "def digitize(n):\n",
    "    return list(map(int, str(n)[::-1]))\n",
    "\n",
    "digitize(35231)"
   ]
  },
  {
   "cell_type": "markdown",
   "metadata": {},
   "source": [
    "  "
   ]
  },
  {
   "cell_type": "markdown",
   "metadata": {},
   "source": [
    "# Grasshopper - Summation - 8 Kyu\n",
    "https://www.codewars.com/kata/55d24f55d7dd296eb9000030/train/python"
   ]
  },
  {
   "cell_type": "code",
   "execution_count": 68,
   "metadata": {},
   "outputs": [
    {
     "data": {
      "text/plain": [
       "36"
      ]
     },
     "execution_count": 68,
     "metadata": {},
     "output_type": "execute_result"
    }
   ],
   "source": [
    "def summation(num):\n",
    "    sum = 0\n",
    "    # Create a sequence of numbers, starting from 1 to num+1 with the range() function\n",
    "    # as an integer number specifying at which position to stop will be not included.\n",
    "    # The range function increments by 1 (by default).\n",
    "    \n",
    "    for i in range(1,num+1):\n",
    "        sum += i\n",
    "        \n",
    "    return sum\n",
    "\n",
    "summation(8)"
   ]
  },
  {
   "cell_type": "markdown",
   "metadata": {},
   "source": [
    "  "
   ]
  },
  {
   "cell_type": "markdown",
   "metadata": {},
   "source": [
    "# Unique Strings - 6 Kyu\n",
    "https://www.codewars.com/kata/586c7cd3b98de02ef60001ab/train/python"
   ]
  },
  {
   "cell_type": "code",
   "execution_count": 157,
   "metadata": {},
   "outputs": [
    {
     "data": {
      "text/plain": [
       "4"
      ]
     },
     "execution_count": 157,
     "metadata": {},
     "output_type": "execute_result"
    }
   ],
   "source": [
    "import itertools\n",
    "\n",
    "\n",
    "def uniq_count(s):\n",
    "    permutations = itertools.permutations(s.upper()) \n",
    "    unique_num = len(set(\"\".join(permutation) for permutation in permutations))\n",
    "    return unique_num\n",
    "\n",
    "uniq_count(\"ABBb\")"
   ]
  },
  {
   "cell_type": "markdown",
   "metadata": {},
   "source": [
    " "
   ]
  },
  {
   "cell_type": "markdown",
   "metadata": {},
   "source": [
    "# Detect Pangram - 6Kyu\n",
    "https://www.codewars.com/kata/545cedaa9943f7fe7b000048/train/python"
   ]
  },
  {
   "cell_type": "code",
   "execution_count": 1,
   "metadata": {},
   "outputs": [
    {
     "data": {
      "text/plain": [
       "True"
      ]
     },
     "execution_count": 1,
     "metadata": {},
     "output_type": "execute_result"
    }
   ],
   "source": [
    "import string\n",
    "import re\n",
    "\n",
    "def is_pangram(s):\n",
    "    alphanumeric_filter = filter(str.isalnum, s)\n",
    "    alphanumeric_string = \"\".join(re.findall(\"[a-zA-Z]+\", s)).lower()\n",
    "    alphanumeric_string_no_duplicates = list(dict.fromkeys(alphanumeric_string))\n",
    "    if len(alphanumeric_string_no_duplicates) == 26:\n",
    "        return True\n",
    "    else:\n",
    "        return False\n",
    "    \n",
    "is_pangram(\"The quick, brown fox jumps over the lazy dog!\")"
   ]
  },
  {
   "cell_type": "markdown",
   "metadata": {},
   "source": [
    " "
   ]
  },
  {
   "cell_type": "markdown",
   "metadata": {},
   "source": [
    " # Your order, please - 6Kyu\n",
    " https://www.codewars.com/kata/55c45be3b2079eccff00010f/train/python"
   ]
  },
  {
   "cell_type": "code",
   "execution_count": 92,
   "metadata": {},
   "outputs": [
    {
     "data": {
      "text/plain": [
       "'Thi1s is2 3a T4est'"
      ]
     },
     "execution_count": 92,
     "metadata": {},
     "output_type": "execute_result"
    }
   ],
   "source": [
    "def order(sentence):\n",
    "    if sentence != \"\":\n",
    "        words = sentence.split()\n",
    "        remove_letters = [''.join(filter(str.isdigit, x)) for x in sentence if x]\n",
    "        numbers = [x for x in remove_letters if x]\n",
    "        sum_lists = sorted([a + b for a, b in zip(numbers, words)])\n",
    "        for s in sum_lists:\n",
    "            sum_lists_minus_num = [i[1:] for i in sum_lists]\n",
    "        return \" \".join(sum_lists_minus_num)\n",
    "    else:\n",
    "        return \"\"\n",
    "\n",
    "order(\"is2 Thi1s T4est 3a\")"
   ]
  },
  {
   "cell_type": "markdown",
   "metadata": {},
   "source": [
    " "
   ]
  },
  {
   "cell_type": "markdown",
   "metadata": {},
   "source": [
    "# Find The Parity Outlier - 6Kyu\n",
    "https://www.codewars.com/kata/5526fc09a1bbd946250002dc/train/python"
   ]
  },
  {
   "cell_type": "code",
   "execution_count": 169,
   "metadata": {},
   "outputs": [],
   "source": [
    "def find_outlier(integers):\n",
    "    \n",
    "    even = list(filter(lambda num: num % 2 ==0, integers))\n",
    "    odd = list(filter(lambda num: num % 2 !=0, integers))\n",
    "    \n",
    "    if len(even)==1:\n",
    "        return even[0]\n",
    "    else:\n",
    "        return odd[0]"
   ]
  },
  {
   "cell_type": "markdown",
   "metadata": {},
   "source": [
    "## Learnings"
   ]
  },
  {
   "cell_type": "markdown",
   "metadata": {},
   "source": [
    "Use list comprehension instead of using the filter function and turning the returned array into a list with a list object."
   ]
  },
  {
   "cell_type": "code",
   "execution_count": 171,
   "metadata": {},
   "outputs": [],
   "source": [
    "def find_outlier(int):\n",
    "    odds = [x for x in int if x%2!=0]\n",
    "    evens= [x for x in int if x%2==0]\n",
    "    return odds[0] if len(odds)<len(evens) else evens[0]"
   ]
  },
  {
   "cell_type": "markdown",
   "metadata": {},
   "source": [
    "### List Comprehension \n",
    "\n",
    "List comprehension offers a shorter syntax when you want to create a new list based on the values of an existing list.\n",
    "\n",
    "The return value is a new list, leaving the old list unchanged.\n",
    "\n",
    "The condition is like a filter that only accepts the items that valuate to True."
   ]
  },
  {
   "cell_type": "markdown",
   "metadata": {},
   "source": [
    " "
   ]
  },
  {
   "cell_type": "markdown",
   "metadata": {},
   "source": [
    "# Who likes it? - 6Kyu\n",
    "https://www.codewars.com/kata/5266876b8f4bf2da9b000362/train/python"
   ]
  },
  {
   "cell_type": "code",
   "execution_count": 1,
   "metadata": {},
   "outputs": [],
   "source": [
    "def likes(names):\n",
    "    \n",
    "    if len(names) == 0:\n",
    "        return \"no one likes this\"\n",
    "    \n",
    "    elif len(names) == 1:\n",
    "            return str(names[0]) + \" likes this\"\n",
    "        \n",
    "    elif len(names) == 2:\n",
    "            return str(names[0]) + \" and \" + str(names[1]) + \" like this\"\n",
    "    \n",
    "    elif len(names) == 3:\n",
    "            return str(names[0]) + \", \" + str(names[1])  +  \" and \"  +  str(names[2]) + \" like this\"\n",
    "    \n",
    "    else:\n",
    "        return str(names[0]) + \", \" + str(names[1])  +  \" and \" + str(len(names) - 2 ) + \" others like this\"\n",
    "        "
   ]
  },
  {
   "cell_type": "markdown",
   "metadata": {},
   "source": [
    "## Learnings\n",
    "\n",
    "### .format\n",
    "\n",
    "The <b>format() method</b> formats the specified value(s) and insert them inside the string's placeholder.\n",
    "\n",
    "The placeholder is defined using curly brackets: {}. The format() method returns the formatted string.\n",
    "\n",
    "#### Syntax\n",
    "string.format(value1, value2...)\n",
    "\n",
    "#### Parameter Values\n",
    "\n",
    "value1, value2... \tRequired. One or more values that should be formatted and inserted in the string.\n",
    "\n",
    "The values can be of any data type."
   ]
  },
  {
   "cell_type": "code",
   "execution_count": 2,
   "metadata": {},
   "outputs": [],
   "source": [
    "def likes(names):\n",
    "    # make a dictionary d of all the possible answers. Keys are the respective number\n",
    "    # of people who liked it.\n",
    "    \n",
    "    # {} indicate placeholders. They do not need any numbers but are simply replaced/formatted\n",
    "    # in the order the arguments in names are given to format\n",
    "    # {others} can be replaced by its name; below the argument \"others = length - 2\"\n",
    "    # is passed to str.format()\n",
    "    d = {\n",
    "        0: \"no one likes this\",\n",
    "        1: \"{} likes this\",\n",
    "        2: \"{} and {} like this\",\n",
    "        3: \"{}, {} and {} like this\",\n",
    "        4: \"{}, {} and {others} others like this\"\n",
    "        }\n",
    "    length = len(names)\n",
    "    # d[min(4, length)] insures that the appropriate string is called from the dictionary\n",
    "    # and subsequently returned. Min is necessary as len(names) may be > 4\n",
    "    \n",
    "    # The * in *names ensures that the list names is blown up and that format is called\n",
    "    # as if each item in names was passed to format individually, i. e.\n",
    "    # format(names[0], names[1], .... , names[n], others = length - 2\n",
    "    return d[min(4, length)].format(*names, others = length - 2)"
   ]
  },
  {
   "cell_type": "markdown",
   "metadata": {},
   "source": [
    " "
   ]
  },
  {
   "cell_type": "markdown",
   "metadata": {},
   "source": [
    "# Bit Counting - 6Kyu\n",
    "https://www.codewars.com/kata/526571aae218b8ee490006f4"
   ]
  },
  {
   "cell_type": "code",
   "execution_count": 16,
   "metadata": {
    "scrolled": true
   },
   "outputs": [],
   "source": [
    "def count_bits(n):\n",
    "    binary = f'{n:08b}'\n",
    "    return binary.count('1')"
   ]
  },
  {
   "cell_type": "markdown",
   "metadata": {},
   "source": [
    "# Replace With Alphabet Position - 6Kyu\n",
    "https://www.codewars.com/kata/546f922b54af40e1e90001da"
   ]
  },
  {
   "cell_type": "code",
   "execution_count": 85,
   "metadata": {},
   "outputs": [
    {
     "data": {
      "text/plain": [
       "'4 4 26 26'"
      ]
     },
     "execution_count": 85,
     "metadata": {},
     "output_type": "execute_result"
    }
   ],
   "source": [
    "import string\n",
    "def alphabet_position(text):\n",
    "    alpha_dict = dict(enumerate(string.ascii_lowercase,1))\n",
    "    res = dict((v,k) for k,v in alpha_dict.items())\n",
    "    alpha_dict_u = dict(enumerate(string.ascii_uppercase,1))\n",
    "    res_u = dict((v,k) for k,v in alpha_dict_u.items())\n",
    "    lower_upper_letters = {**res, **res_u}\n",
    "    numbers = ''\n",
    "    list_of_letters = list(text)\n",
    "    for letter in list_of_letters:\n",
    "        if all(letter in lower_upper_letters for letter in list_of_letters):\n",
    "            num = str(lower_upper_letters.get(letter)) + ' '\n",
    "            #numbers += str(lower_upper_letters.get(letter))  \n",
    "            numbers += num\n",
    "    return numbers.strip()\n",
    "\n",
    "alphabet_position('dDzZ')"
   ]
  },
  {
   "cell_type": "markdown",
   "metadata": {},
   "source": [
    "# Split In Parts - 7Kyu\n",
    "https://www.codewars.com/kata/5650ab06d11d675371000003"
   ]
  },
  {
   "cell_type": "code",
   "execution_count": 2,
   "metadata": {
    "scrolled": true
   },
   "outputs": [
    {
     "data": {
      "text/plain": [
       "'weew KKwe rtgd rtfy g'"
      ]
     },
     "execution_count": 2,
     "metadata": {},
     "output_type": "execute_result"
    }
   ],
   "source": [
    "def split_in_parts(s, part_length): \n",
    "    split_strings = []\n",
    "    for index in range(0, len(s), part_length):\n",
    "        split_strings.append(s[index : index + part_length])\n",
    "    return \" \".join(str(x) for x in split_strings)\n",
    "split_in_parts('weewKKwertgdrtfyg', 4)"
   ]
  },
  {
   "cell_type": "markdown",
   "metadata": {},
   "source": [
    "## Learnings\n",
    "\n",
    "### How to convert list to string using list comprehension\n",
    "List comprehension offers a shorter syntax when you want to create a new list\n",
    "based on the values of an existing list.\n",
    "\n",
    "Formula for how to create list comprehensions:\n",
    "\n",
    "new_list = [expression for member in iterable]\n",
    "\n",
    "\n",
    "L = [1,2,3]       \n",
    "\" \".join(str(x) for x in L)\n",
    "\n",
    "The join() method takes all items in an iterable and joins them into one string."
   ]
  },
  {
   "cell_type": "code",
   "execution_count": 8,
   "metadata": {},
   "outputs": [
    {
     "data": {
      "text/plain": [
       "'1 2 3'"
      ]
     },
     "execution_count": 8,
     "metadata": {},
     "output_type": "execute_result"
    }
   ],
   "source": [
    "L = [1,2,3]\n",
    "\" \".join(str(x) for x in L)"
   ]
  },
  {
   "cell_type": "markdown",
   "metadata": {},
   "source": [
    "https://www.kite.com/python/answers/how-to-split-a-string-at-every-nth-character-in-python"
   ]
  },
  {
   "cell_type": "markdown",
   "metadata": {},
   "source": [
    "# Filter the number - 7Kyu\n",
    "https://www.codewars.com/kata/55b051fac50a3292a9000025"
   ]
  },
  {
   "cell_type": "code",
   "execution_count": 36,
   "metadata": {},
   "outputs": [
    {
     "data": {
      "text/plain": [
       "123"
      ]
     },
     "execution_count": 36,
     "metadata": {},
     "output_type": "execute_result"
    }
   ],
   "source": [
    "def filter_string(string):\n",
    "    letter_list = list(string)\n",
    "    \n",
    "    numbers = ''\n",
    "    \n",
    "    for letter in letter_list:\n",
    "        if letter.isnumeric():\n",
    "            numbers += letter\n",
    "            \n",
    "    return int(numbers)\n",
    "\n",
    "filter_string('aa1bb2cc3dd')"
   ]
  },
  {
   "cell_type": "code",
   "execution_count": 37,
   "metadata": {},
   "outputs": [],
   "source": [
    "def filter_string(string):\n",
    "    return int(filter(str.isdigit, string))"
   ]
  },
  {
   "cell_type": "markdown",
   "metadata": {},
   "source": [
    "## Learning\n",
    "\n",
    "<b>filter()</b> function\n",
    "\n",
    "The filter() function returns an iterator were the items are filtered through a function to test if the item is accepted or not.\n",
    "\n",
    "### Syntax\n",
    "filter(function, iterable)"
   ]
  },
  {
   "cell_type": "markdown",
   "metadata": {},
   "source": [
    "# Descending Order - 7Kyu\n",
    "https://www.codewars.com/kata/5467e4d82edf8bbf40000155"
   ]
  },
  {
   "cell_type": "code",
   "execution_count": 29,
   "metadata": {},
   "outputs": [
    {
     "data": {
      "text/plain": [
       "53333"
      ]
     },
     "execution_count": 29,
     "metadata": {},
     "output_type": "execute_result"
    }
   ],
   "source": [
    "def descending_order(num):\n",
    "    return int(\"\".join(sorted(str(num), reverse=True)))\n",
    "\n",
    "descending_order('33335')"
   ]
  },
  {
   "cell_type": "markdown",
   "metadata": {},
   "source": [
    "https://www.codewars.com/kata/5467e4d82edf8bbf40000155/train/python"
   ]
  },
  {
   "cell_type": "markdown",
   "metadata": {},
   "source": [
    "# Calculate average - 8Kyu \n",
    "\n",
    "https://www.codewars.com/kata/57a2013acf1fa5bfc4000921"
   ]
  },
  {
   "cell_type": "code",
   "execution_count": 36,
   "metadata": {},
   "outputs": [],
   "source": [
    "def find_average(numbers):\n",
    "    return sum(numbers)/len(numbers)"
   ]
  },
  {
   "cell_type": "markdown",
   "metadata": {},
   "source": [
    "# regex pattern to check if string has all characters - 6Kyu\n",
    "\n",
    "https://www.codewars.com/kata/5e4eb72bb95d28002dbbecde"
   ]
  },
  {
   "cell_type": "code",
   "execution_count": 35,
   "metadata": {
    "scrolled": true
   },
   "outputs": [
    {
     "data": {
      "text/plain": [
       "'(?=.*a)(?=.*s)(?=.*d)'"
      ]
     },
     "execution_count": 35,
     "metadata": {},
     "output_type": "execute_result"
    }
   ],
   "source": [
    "def regex_contains_all(st): \n",
    "    return ''.join(f'(?=.*{x})' for x in set(st))\n",
    "regex_contains_all('ssssssaaaassdddsss')"
   ]
  },
  {
   "cell_type": "markdown",
   "metadata": {},
   "source": [
    "## Positive lookahead\n",
    "q(?=u) matches a q that is followed by a u, without making the u part of the match. The positive lookahead construct is a pair of parentheses, with the opening parenthesis followed by a question mark and an equals sign.\n",
    "\n",
    "?= is a positive lookahead, a type of zero-width assertion. What it's saying is that the captured match must be followed by whatever is within the parentheses but that part isn't captured.\n",
    "\n",
    "### (?=.*\\d)\n",
    "Your example means the match needs to be followed by zero or more characters and then a digit (but again that part isn't captured)."
   ]
  },
  {
   "cell_type": "markdown",
   "metadata": {},
   "source": [
    "# RegEx Learning Sources:\n",
    "\n",
    "https://www.regular-expressions.info/refbasic.html\n",
    "\n"
   ]
  },
  {
   "cell_type": "markdown",
   "metadata": {},
   "source": [
    "# Remove HTML tags using regexp - 7Kyu"
   ]
  },
  {
   "cell_type": "code",
   "execution_count": 16,
   "metadata": {},
   "outputs": [
    {
     "data": {
      "text/plain": [
       "'go to start page'"
      ]
     },
     "execution_count": 16,
     "metadata": {},
     "output_type": "execute_result"
    }
   ],
   "source": [
    "import re\n",
    "\n",
    "# .* mean \"get everything\"\n",
    "# A question mark means, “The last item is optional.”\n",
    "\n",
    "reg = re.compile('<.*?>')\n",
    "\n",
    "def remove_html(text):\n",
    "    return re.sub(reg,'',text)\n",
    "\n",
    "remove_html(\"<a href='#'>go to <b>start</b> page</a>\")"
   ]
  },
  {
   "cell_type": "markdown",
   "metadata": {},
   "source": [
    "Stars will match <b>zero or more of the previous items</b>.\n",
    "\n",
    "They function just like plus signs, except they <b>allow you to match ZERO (or more) of the previous items</b>. \n",
    "\n",
    "Plus signs require at least one match."
   ]
  },
  {
   "cell_type": "code",
   "execution_count": 19,
   "metadata": {},
   "outputs": [],
   "source": [
    "reg = '<[^>]*>'"
   ]
  },
  {
   "cell_type": "markdown",
   "metadata": {},
   "source": [
    "# Regexp Basics - is it all whitespace? - 7Kyu\n",
    "\n",
    "Implement whitespace(str) (Python), which should return true/True if given object consists exclusively of zero or more whitespace characters, false/False otherwise.\n",
    "https://www.codewars.com/kata/567de8823fa5eee02100002a\n",
    "\n",
    "## ASCII Whitespace Characters\n",
    "The most common whitespace characters are space ' ' , tab '\\t' , and newline '\\n'. Carriage Return '\\r' and ASCII Form Feed '\\f' are also considered as whitespace characters.\n",
    "\n",
    "## \\s\n",
    "For Unicode (str) patterns:\n",
    "Matches Unicode whitespace characters (which includes [ \\t\\n\\r\\f\\v], and also many other characters, for example the non-breaking spaces mandated by typography rules in many languages). If the ASCII flag is used, only [ \\t\\n\\r\\f\\v] is matched.\n",
    "\n",
    "For 8-bit (bytes) patterns:\n",
    "Matches characters considered whitespace in the ASCII character set; this is equivalent to [ \\t\\n\\r\\f\\v]."
   ]
  },
  {
   "cell_type": "code",
   "execution_count": 9,
   "metadata": {},
   "outputs": [
    {
     "data": {
      "text/plain": [
       "True"
      ]
     },
     "execution_count": 9,
     "metadata": {},
     "output_type": "execute_result"
    }
   ],
   "source": [
    "def whitespace(string):\n",
    "    return not string or string.isspace()\n",
    "\n",
    "whitespace(\"\\t \\n\\r\\n  \")"
   ]
  },
  {
   "cell_type": "markdown",
   "metadata": {},
   "source": [
    "## isslace()\n",
    "\n",
    "The isspace() method returns True if all the characters in a string are whitespaces, otherwise False.\n",
    "\n",
    "The <b>not</b> keyword is a logical operator.\n",
    "\n",
    "The return value will be True if the statement(s) are not True, otherwise it will return False."
   ]
  },
  {
   "cell_type": "code",
   "execution_count": 25,
   "metadata": {},
   "outputs": [],
   "source": [
    "def whitespace(string):\n",
    "    \n",
    "    origin_len = len(string)\n",
    "    string_list = string.split()\n",
    "    new_string = ''.join(string_list)\n",
    "    new_string_len = len(new_string)\n",
    "    \n",
    "    if string == '':\n",
    "        return True\n",
    "    elif origin_len != new_string_len and string.isspace():\n",
    "        return True\n",
    "    return False"
   ]
  },
  {
   "cell_type": "markdown",
   "metadata": {},
   "source": [
    "# regex validation of 24 hours time - 7Kyu\n",
    "\n",
    "https://www.codewars.com/kata/56a4a3d4043c316002000042\n",
    "\n",
    "Write a regex to validate a 24 hours time string. See examples to figure out what you should check for:\n",
    "\n",
    "Accepted: 01:00 - 1:00\n",
    "\n",
    "Not accepted:\n",
    "\n",
    "24:00\n",
    "\n",
    "You should check for correct length and no spaces."
   ]
  },
  {
   "cell_type": "code",
   "execution_count": 24,
   "metadata": {},
   "outputs": [
    {
     "data": {
      "text/plain": [
       "False"
      ]
     },
     "execution_count": 24,
     "metadata": {},
     "output_type": "execute_result"
    }
   ],
   "source": [
    "import re\n",
    "\n",
    "time = '24:00'\n",
    "def validate_time(time):\n",
    "    _24H = re.compile(r'^([01]?\\d|2[0-3]):[0-5]\\d$')\n",
    "    return bool(_24H.match(time))\n",
    "    \n",
    "validate_time(time)"
   ]
  },
  {
   "cell_type": "markdown",
   "metadata": {},
   "source": [
    "### re.compile(pattern,flags=0)\n",
    "Compile a regex pattern into a regex object, which can be used for matching usings its match(), search() and other methods.\n",
    "\n",
    "Usage:\n",
    "\n",
    "prog = <b>re.compile</b>(pattern)\n",
    "\n",
    "result = prog<b>.match</b>(string)\n",
    "\n",
    "Using re.compile() and saving the regex object for reuse is efficient when the expression will be used several times in a single program.\n",
    "\n",
    "### re.match(pattern, string, flags=0)\n",
    "If zero or more characters at beginning of string match the regular expression pattern, return a corresponding match object. \n",
    "\n",
    "re.match() will only match at the beginning of the string and not at the beginning of each line.\n",
    "\n",
    "### Evaluate Values and Variables\n",
    "The bool() function allows you to evaluate any value, and give you True or False in return.\n",
    "\n",
    "Most Values are True.\n",
    "Almost any value is evaluated to True if it has some sort of content.\n",
    "\n",
    "Any string is True, except empty strings.\n",
    "\n",
    "Any number is True, except 0.\n",
    "\n",
    "Any list, tuple, set, and dictionary are True, except empty ones.\n",
    "\n",
    "### \\d\n",
    "Match a single character that is a digit (ASCII 0–9 only)"
   ]
  },
  {
   "cell_type": "code",
   "execution_count": 13,
   "metadata": {},
   "outputs": [
    {
     "data": {
      "text/plain": [
       "False"
      ]
     },
     "execution_count": 13,
     "metadata": {},
     "output_type": "execute_result"
    }
   ],
   "source": [
    "timestamp = '01:00 - 1:00'\n",
    "\n",
    "def validate_time(timestamp):\n",
    "    return bool(re.match(r'(2[0-3]|[01]?\\d):[0-5]\\d$', timestamp))\n",
    "\n",
    "validate_time(timestamp)"
   ]
  },
  {
   "cell_type": "code",
   "execution_count": 12,
   "metadata": {},
   "outputs": [],
   "source": [
    "def validate_time(time):\n",
    "    regexPattern = \"^([0-1]?[0-9]|2[0-3]):[0-5][0-9]$\"\n",
    "    compiledPattern = re.compile(regexPattern); # Compile the ReGex\n",
    "\n",
    "    if (time == None) : # If the time is empty return false\n",
    "        return False;\n",
    "     \n",
    "    # re library contains search() method to find matching between given time and regular expression.\n",
    "    # Return if the time matched the ReGex\n",
    "    if re.search(compiledPattern,time):\n",
    "        return True\n",
    "    else :\n",
    "        return False"
   ]
  },
  {
   "cell_type": "markdown",
   "metadata": {},
   "source": [
    "# Regex Failure - Bug Fixing #2\n",
    "https://www.codewars.com/kata/55c423ecf847fbcba100002b\n",
    "\n",
    "Oh no, Timmy's received some hate mail recently but he knows better. Help Timmy fix his regex filter so he can be awesome again!"
   ]
  },
  {
   "cell_type": "code",
   "execution_count": 2,
   "metadata": {},
   "outputs": [],
   "source": [
    "from re import sub\n",
    "def filter_words(phrase):\n",
    "    return sub(\"(?i)(bad|mean|ugly|horrible|hideous)\",\"awesome\",phrase)"
   ]
  },
  {
   "cell_type": "code",
   "execution_count": 3,
   "metadata": {},
   "outputs": [],
   "source": [
    "import re \n",
    "\n",
    "def filter_words(phrase):\n",
    "    \n",
    "    return re.sub(r\"(bad|mean|ugly|horrible|hideous)\",\"awesome\",phrase, flags=re.I)"
   ]
  },
  {
   "cell_type": "markdown",
   "metadata": {},
   "source": [
    "# Regex validate PIN code - 7Kyu\n",
    "\n",
    "https://www.codewars.com/kata/55f8a9c06c018a0d6e000132\n",
    "\n",
    "ATM machines allow 4 or 6 digit PIN codes and PIN codes cannot contain anything but exactly 4 digits or exactly 6 digits. If the function is passed a valid PIN string, return true, else return false."
   ]
  },
  {
   "cell_type": "code",
   "execution_count": 11,
   "metadata": {},
   "outputs": [],
   "source": [
    "import re \n",
    "\n",
    "def validate_pin(pin):\n",
    "    \n",
    "    if len(pin.strip()) < len(pin):\n",
    "        return False\n",
    "    elif re.match('^[0-9]*$', pin) and len(pin) == 4:\n",
    "        return True\n",
    "    elif re.match('^[0-9]*$', pin) and len(pin) == 6:\n",
    "        return True\n",
    "    else:\n",
    "        return False"
   ]
  },
  {
   "cell_type": "code",
   "execution_count": 12,
   "metadata": {},
   "outputs": [],
   "source": [
    "def validate_pin(pin):\n",
    "    return len(pin) in [4,6] and pin.isdigit()"
   ]
  },
  {
   "cell_type": "markdown",
   "metadata": {},
   "source": [
    "## Learnings\n",
    "\n",
    "$\tEnds with\n",
    "\n",
    "Star: *\tZero or more occurrences\n",
    "\n",
    "re.match() will only match at the beginning of the string and not at the beginning of each line\n"
   ]
  },
  {
   "cell_type": "markdown",
   "metadata": {},
   "source": [
    "# Regexp Basics - is it a letter? - 7Kyu\n",
    "https://www.codewars.com/kata/567de72e8b3621b3c300000b\n",
    "\n",
    "Complete the code which should return true if the given object is a single ASCII letter (lower or upper case), false otherwise."
   ]
  },
  {
   "cell_type": "code",
   "execution_count": 28,
   "metadata": {
    "scrolled": true
   },
   "outputs": [
    {
     "name": "stdout",
     "output_type": "stream",
     "text": [
      "False\n",
      "False\n",
      "True\n",
      "True\n"
     ]
    }
   ],
   "source": [
    "import re\n",
    "\n",
    "def is_letter(s):\n",
    "    if len(s) > 1 or len(s) < 1 :\n",
    "        return False\n",
    "    elif s == ' ':\n",
    "        return False\n",
    "    else:\n",
    "        # search for any character that IS NOT a-z OR A-Z\n",
    "        # if 'a' this will return False\n",
    "        # and because of use of \"not\" the return value will be True as  the statement was not True\n",
    "        return not re.search(r'[^a-zA-Z. ]', s)\n",
    "    \n",
    "print(is_letter(\"\"))\n",
    "print(is_letter(\"9\"))\n",
    "print(is_letter(\"a\"))\n",
    "print(is_letter(\"O\"))\n"
   ]
  },
  {
   "cell_type": "markdown",
   "metadata": {},
   "source": [
    "## Learnings\n",
    "\n",
    "### not - logical operator\n",
    "The not keyword is a logical operator. The return value will be True if the statement(s) are not True, otherwise it will return False.\n",
    "\n",
    ".\tAny character (except newline character)\n",
    "#### ^ character\n",
    "^\tStarts with\n",
    "\n",
    "When the ^ character appears outside of [ ] matches the beginning of the line (or string).\n",
    "\n",
    "^[a-zA-Z] means any a-z or A-Z at the start of a line\n",
    "\n",
    "\n",
    "When the ^ character appears inside the [ ], it matches any character not appearing inside the [].\n",
    "\n",
    "[^a-zA-Z] means any character that IS NOT a-z OR A-Z"
   ]
  },
  {
   "cell_type": "markdown",
   "metadata": {},
   "source": [
    "# Jaden Casing Strings - 7Kyu\n",
    "https://www.codewars.com/kata/5390bac347d09b7da40006f6\n",
    "Capitalize each word in a string."
   ]
  },
  {
   "cell_type": "code",
   "execution_count": 15,
   "metadata": {},
   "outputs": [
    {
     "data": {
      "text/plain": [
       "'Ha Ha Lol'"
      ]
     },
     "execution_count": 15,
     "metadata": {},
     "output_type": "execute_result"
    }
   ],
   "source": [
    "def to_jaden_case(string):\n",
    "    splited_string = string.split(' ')\n",
    "    new_string = ''\n",
    "    for word in splited_string:\n",
    "        new_string += word.capitalize() + ' '    \n",
    "    return new_string.strip()\n",
    "to_jaden_case('ha ha lol')"
   ]
  },
  {
   "cell_type": "markdown",
   "metadata": {},
   "source": [
    "# Disemvowel Trolls - 7 Kyu\n",
    "\n",
    "https://www.codewars.com/kata/52fba66badcd10859f00097e\n",
    "\n",
    "Trolls are attacking your comment section!\n",
    "A common way to deal with this situation is to remove all of the vowels from the trolls' comments, neutralizing the threat.\n",
    "Your task is to write a function that takes a string and return a new string with all vowels removed.\n",
    "For example, the string \"This website is for losers LOL!\" would become \"Ths wbst s fr lsrs LL!\".\n",
    "Note: for this kata y isn't considered a vowel."
   ]
  },
  {
   "cell_type": "code",
   "execution_count": 9,
   "metadata": {},
   "outputs": [],
   "source": [
    "def disemvowel(string_):\n",
    "    \n",
    "    vowels = ['a','o','i','u','e', 'A','O','I','U','E']\n",
    "    amended_s = ''\n",
    "    \n",
    "    for char in string_:\n",
    "        if char in vowels:\n",
    "            amended_s += ''\n",
    "        else:\n",
    "            amended_s += char\n",
    "    return amended_s"
   ]
  },
  {
   "cell_type": "markdown",
   "metadata": {},
   "source": [
    "# Returning Strings - 8 Kyu\n",
    "\n",
    "https://www.codewars.com/kata/55a70521798b14d4750000a4\n",
    "\n",
    "Make a function that will return a greeting statement that uses an input; your program should return, \"Hello, <name> how are you doing today?\"."
   ]
  },
  {
   "cell_type": "code",
   "execution_count": 7,
   "metadata": {},
   "outputs": [],
   "source": [
    "def greet(name):    \n",
    "    return \"Hello, \" + name + \" how are you doing today?\""
   ]
  },
  {
   "cell_type": "markdown",
   "metadata": {},
   "source": [
    "# Vowel remover - 8 Kyu\n",
    "\n",
    "https://www.codewars.com/kata/5547929140907378f9000039\n",
    "\n",
    "Create a function called shortcut to remove all the lowercase vowels in a given string."
   ]
  },
  {
   "cell_type": "code",
   "execution_count": 6,
   "metadata": {},
   "outputs": [],
   "source": [
    "def shortcut( s ):\n",
    "    vowels = ['a','o','i','u','e']\n",
    "    amended_s = ''\n",
    "    for char in s:\n",
    "        if char in vowels:\n",
    "            amended_s += ''\n",
    "        else:\n",
    "            amended_s += char\n",
    "    return amended_s"
   ]
  },
  {
   "cell_type": "markdown",
   "metadata": {},
   "source": [
    "# Sum The Strings - 8 Kyu\n",
    "https://www.codewars.com/kata/5966e33c4e686b508700002d\n",
    "\n",
    "Create a function that takes 2 nonnegative integers in form of a string as an input, and outputs the sum (also as a string):\n",
    "Example: (Input1, Input2 -->Output)\n",
    "\n",
    "Notes:\n",
    "If either input is an empty string, consider it as zero.\n",
    "Inputs and the expected output will never exceed the signed 32-bit integer limit (2^31 - 1)"
   ]
  },
  {
   "cell_type": "code",
   "execution_count": null,
   "metadata": {},
   "outputs": [],
   "source": [
    "def sum_str(a, b):\n",
    "    \n",
    "    if a == '' and b == '':\n",
    "        return str(0)\n",
    "    elif a == '':\n",
    "        return b\n",
    "    elif b == '':\n",
    "        return a\n",
    "    else:\n",
    "        sum = int(a) + int(b)\n",
    "        return str(sum)"
   ]
  },
  {
   "cell_type": "markdown",
   "metadata": {},
   "source": [
    "# Count vowels in a string - 7Kyu\n",
    "\n",
    "Write a function count_vowels to count the number of vowels in a given string.\n",
    "\n",
    "Notes:\n",
    "Return nil or None for non-string inputs.\n",
    "Return 0 if the parameter is omitted."
   ]
  },
  {
   "cell_type": "code",
   "execution_count": 2,
   "metadata": {
    "scrolled": true
   },
   "outputs": [
    {
     "data": {
      "text/plain": [
       "6"
      ]
     },
     "execution_count": 2,
     "metadata": {},
     "output_type": "execute_result"
    }
   ],
   "source": [
    "def count_vowels(s = ''):\n",
    "    vowels = [\"a\",\"e\",\"o\",\"u\",\"i\"] # create a list of vowels\n",
    "    # create counter variable to keep track of values\n",
    "    # while the loop is iterating values in the list\n",
    "    counter = 0 \n",
    "    try:\n",
    "        s = s.lower() \n",
    "        for char in s:\n",
    "            if char in vowels:\n",
    "                counter +=1\n",
    "        return counter\n",
    "    except AttributeError:\n",
    "        return None\n",
    "count_vowels(\"aAbcdesdeeEfg\")"
   ]
  },
  {
   "cell_type": "markdown",
   "metadata": {},
   "source": [
    "## Learning: AttributeError\n",
    "\n",
    "AttributeError can be defined as an error that is raised when an attribute reference or assignment fails. Attribute errors in Python are generally raised when an invalid attribute reference is made.\n",
    "Raised when an attribute reference (see Attribute references) or assignment fails. (When an object does not support attribute references or attribute assignments at all, TypeError is raised.)\n",
    "\n",
    "AttribureError is used in the above solution to address the \"Return nil or None for non-string inputs.\" part of the kata."
   ]
  },
  {
   "cell_type": "markdown",
   "metadata": {},
   "source": [
    "# Grandma learning to text\n",
    "\n",
    "https://www.codewars.com/kata/5a043fbef3251a5a2b0002b0/python"
   ]
  },
  {
   "cell_type": "markdown",
   "metadata": {},
   "source": [
    "## Solution 1."
   ]
  },
  {
   "cell_type": "code",
   "execution_count": 219,
   "metadata": {},
   "outputs": [
    {
     "data": {
      "text/plain": [
       "['TOO', 'TOo', 'ToO', 'Too', 'tOO', 'tOo', 'toO', 'too']"
      ]
     },
     "execution_count": 219,
     "metadata": {},
     "output_type": "execute_result"
    }
   ],
   "source": [
    "# https://stackoverflow.com/questions/11144389/find-all-upper-lower-and-mixed-case-combinations-of-a-string\n",
    "\n",
    "import itertools\n",
    "\n",
    "s = 'too'\n",
    "too_list = list(map(''.join, itertools.product(*zip(s.upper(), s.lower()))))\n",
    "too_list"
   ]
  },
  {
   "cell_type": "code",
   "execution_count": 220,
   "metadata": {},
   "outputs": [
    {
     "data": {
      "text/plain": [
       "['TO', 'To', 'tO', 'to']"
      ]
     },
     "execution_count": 220,
     "metadata": {},
     "output_type": "execute_result"
    }
   ],
   "source": [
    "s = 'to'\n",
    "to_list = list(map(''.join, itertools.product(*zip(s.upper(), s.lower()))))\n",
    "to_list"
   ]
  },
  {
   "cell_type": "code",
   "execution_count": 221,
   "metadata": {},
   "outputs": [
    {
     "data": {
      "text/plain": [
       "['TWO', 'TWo', 'TwO', 'Two', 'tWO', 'tWo', 'twO', 'two']"
      ]
     },
     "execution_count": 221,
     "metadata": {},
     "output_type": "execute_result"
    }
   ],
   "source": [
    "s = 'two'\n",
    "two_list = list(map(''.join, itertools.product(*zip(s.upper(), s.lower()))))\n",
    "two_list"
   ]
  },
  {
   "cell_type": "code",
   "execution_count": 225,
   "metadata": {},
   "outputs": [
    {
     "data": {
      "text/plain": [
       "{'TOO': '2',\n",
       " 'TOo': '2',\n",
       " 'ToO': '2',\n",
       " 'Too': '2',\n",
       " 'tOO': '2',\n",
       " 'tOo': '2',\n",
       " 'toO': '2',\n",
       " 'too': '2',\n",
       " 'TO': '2',\n",
       " 'To': '2',\n",
       " 'tO': '2',\n",
       " 'to': '2',\n",
       " 'TWO': '2',\n",
       " 'TWo': '2',\n",
       " 'TwO': '2',\n",
       " 'Two': '2',\n",
       " 'tWO': '2',\n",
       " 'tWo': '2',\n",
       " 'twO': '2',\n",
       " 'two': '2'}"
      ]
     },
     "execution_count": 225,
     "metadata": {},
     "output_type": "execute_result"
    }
   ],
   "source": [
    "all_2s = too_list + to_list + two_list\n",
    "dic = dict.fromkeys(all_2s, \"2\")\n",
    "dic"
   ]
  },
  {
   "cell_type": "code",
   "execution_count": 242,
   "metadata": {},
   "outputs": [
    {
     "data": {
      "text/plain": [
       "'I love 2 text 2'"
      ]
     },
     "execution_count": 242,
     "metadata": {},
     "output_type": "execute_result"
    }
   ],
   "source": [
    "s = \"I love to text TO\"\n",
    "\n",
    "def textin(s):\n",
    "    for key, value in dic.items():\n",
    "        s = s.replace(key, value)\n",
    "    return s\n",
    "\n",
    "textin(s)\n",
    "\n",
    "# # Iterate over all key-value pairs in dictionary \n",
    "# for key, value in dic.items():\n",
    "    \n",
    "#     # Replace key character with value character in string\n",
    "#     s = s.replace(key, value)\n",
    "\n",
    "# print(s)"
   ]
  },
  {
   "cell_type": "code",
   "execution_count": 247,
   "metadata": {},
   "outputs": [],
   "source": [
    "def textin(s):\n",
    "    dic = {'TOO': '2',\n",
    " 'TOo': '2',\n",
    " 'ToO': '2',\n",
    " 'Too': '2',\n",
    " 'tOO': '2',\n",
    " 'tOo': '2',\n",
    " 'toO': '2',\n",
    " 'too': '2',\n",
    " 'TO': '2',\n",
    " 'To': '2',\n",
    " 'tO': '2',\n",
    " 'to': '2',\n",
    " 'TWO': '2',\n",
    " 'TWo': '2',\n",
    " 'TwO': '2',\n",
    " 'Two': '2',\n",
    " 'tWO': '2',\n",
    " 'tWo': '2',\n",
    " 'twO': '2',\n",
    " 'two': '2'}\n",
    "    for key, value in dic.items():\n",
    "        s = s.replace(key, value)\n",
    "    return s"
   ]
  },
  {
   "cell_type": "code",
   "execution_count": 255,
   "metadata": {},
   "outputs": [
    {
     "data": {
      "text/plain": [
       "'I love 2 text'"
      ]
     },
     "execution_count": 255,
     "metadata": {},
     "output_type": "execute_result"
    }
   ],
   "source": [
    "textin('I love to text')"
   ]
  },
  {
   "cell_type": "code",
   "execution_count": 254,
   "metadata": {},
   "outputs": [
    {
     "data": {
      "text/plain": [
       "'see you 2morrow'"
      ]
     },
     "execution_count": 254,
     "metadata": {},
     "output_type": "execute_result"
    }
   ],
   "source": [
    "textin('see you tomorrow')"
   ]
  },
  {
   "cell_type": "code",
   "execution_count": 253,
   "metadata": {},
   "outputs": [
    {
     "data": {
      "text/plain": [
       "'look at that oc2pus'"
      ]
     },
     "execution_count": 253,
     "metadata": {},
     "output_type": "execute_result"
    }
   ],
   "source": [
    "textin('look at that octopus')"
   ]
  },
  {
   "cell_type": "code",
   "execution_count": 251,
   "metadata": {},
   "outputs": [
    {
     "data": {
      "text/plain": [
       "'2 2 2 2'"
      ]
     },
     "execution_count": 251,
     "metadata": {},
     "output_type": "execute_result"
    }
   ],
   "source": [
    "textin('TwO ToO tWo tOo')"
   ]
  },
  {
   "cell_type": "code",
   "execution_count": 252,
   "metadata": {},
   "outputs": [
    {
     "data": {
      "text/plain": [
       "'BECAUSE I WANT 2'"
      ]
     },
     "execution_count": 252,
     "metadata": {},
     "output_type": "execute_result"
    }
   ],
   "source": [
    "textin('BECAUSE I WANT TO')"
   ]
  },
  {
   "cell_type": "markdown",
   "metadata": {},
   "source": [
    "## Solution 2."
   ]
  },
  {
   "cell_type": "code",
   "execution_count": 271,
   "metadata": {},
   "outputs": [],
   "source": [
    "import re\n",
    "\n",
    "def textin2(txt):\n",
    "  return re.sub(r'(two|too|to)', '2', txt, flags=re.I) #re.I (ignore case)"
   ]
  },
  {
   "cell_type": "code",
   "execution_count": 272,
   "metadata": {},
   "outputs": [
    {
     "data": {
      "text/plain": [
       "'2 2 2 2'"
      ]
     },
     "execution_count": 272,
     "metadata": {},
     "output_type": "execute_result"
    }
   ],
   "source": [
    "textin2('TwO ToO tWo tOo')"
   ]
  },
  {
   "cell_type": "markdown",
   "metadata": {},
   "source": [
    "The re module offers a set of functions that allows us to search a string for a match:\n",
    "\n",
    "e.g.: sub() Replaces one or many matches with a string\n",
    "\n"
   ]
  },
  {
   "cell_type": "code",
   "execution_count": null,
   "metadata": {},
   "outputs": [],
   "source": [
    " "
   ]
  },
  {
   "cell_type": "markdown",
   "metadata": {},
   "source": [
    "# Scrolling Text\n",
    "https://www.codewars.com/kata/5a995c2aba1bb57f660001fd/train/python\n",
    "\n",
    "Your task is to complete the function which takes a string, and returns an array with all possible rotations of the given string, in uppercase.\n",
    "\n",
    "Example: \n",
    "\n",
    "scrollingText(\"codewars\") should return:\n",
    "\n",
    "[ \"CODEWARS\",\n",
    "  \"ODEWARSC\",\n",
    "  \"DEWARSCO\",\n",
    "  \"EWARSCOD\",\n",
    "  \"WARSCODE\",\n",
    "  \"ARSCODEW\"\n",
    "  \"RSCODEWA\",\n",
    "  \"SCODEWAR\" ]"
   ]
  },
  {
   "cell_type": "code",
   "execution_count": 242,
   "metadata": {},
   "outputs": [],
   "source": [
    "def scrolling_text(text):\n",
    "    text = text.upper()\n",
    "    return [ text[i:] + text[:i] for i in range(len(text)) ]"
   ]
  },
  {
   "cell_type": "code",
   "execution_count": 11,
   "metadata": {},
   "outputs": [
    {
     "name": "stdout",
     "output_type": "stream",
     "text": [
      "0\n",
      "['ABC']\n",
      "1\n",
      "['ABC', 'BCA']\n",
      "2\n",
      "['ABC', 'BCA', 'CAB']\n"
     ]
    },
    {
     "data": {
      "text/plain": [
       "['ABC', 'BCA', 'CAB']"
      ]
     },
     "execution_count": 11,
     "metadata": {},
     "output_type": "execute_result"
    }
   ],
   "source": [
    "text = \"abc\" \n",
    "\n",
    "def scrolling_text(text):\n",
    "    text = text.upper()\n",
    "    scrolling_list = []\n",
    "    \n",
    "    for i in range(len(text)):\n",
    "        print(i)\n",
    "        scrolling_list.append(text[i:] + text[:i])\n",
    "        print(scrolling_list)\n",
    "    return scrolling_list\n",
    "\n",
    "scrolling_text(text)"
   ]
  },
  {
   "cell_type": "code",
   "execution_count": 258,
   "metadata": {},
   "outputs": [
    {
     "name": "stdout",
     "output_type": "stream",
     "text": [
      "0\n",
      "['ABC']\n",
      "1\n",
      "['ABC', 'BCA']\n",
      "2\n",
      "['ABC', 'BCA', 'CAB']\n"
     ]
    },
    {
     "data": {
      "text/plain": [
       "['ABC', 'BCA', 'CAB']"
      ]
     },
     "execution_count": 258,
     "metadata": {},
     "output_type": "execute_result"
    }
   ],
   "source": []
  },
  {
   "cell_type": "markdown",
   "metadata": {},
   "source": [
    "<b>Solution Blocks</b>"
   ]
  },
  {
   "cell_type": "code",
   "execution_count": 259,
   "metadata": {},
   "outputs": [],
   "source": [
    "def rotate(strg, n):\n",
    "    return strg[n:] + strg[:n]"
   ]
  },
  {
   "cell_type": "code",
   "execution_count": 260,
   "metadata": {},
   "outputs": [
    {
     "data": {
      "text/plain": [
       "'OHELL'"
      ]
     },
     "execution_count": 260,
     "metadata": {},
     "output_type": "execute_result"
    }
   ],
   "source": [
    "rotate('HELLO', 4)  # 'OHELL'"
   ]
  },
  {
   "cell_type": "markdown",
   "metadata": {},
   "source": [
    "The range() function returns a sequence of numbers, starting from 0 by default, and increments by 1 (by default), and stops before a specified number.\n",
    "\n",
    "Syntax\n",
    "\n",
    "range(start, stop, step)"
   ]
  },
  {
   "cell_type": "code",
   "execution_count": 293,
   "metadata": {},
   "outputs": [
    {
     "name": "stdout",
     "output_type": "stream",
     "text": [
      "0\n",
      "1\n",
      "2\n"
     ]
    }
   ],
   "source": [
    "text = \"abc\"\n",
    "\n",
    "for i in range(len(text)):\n",
    "    print(i)"
   ]
  },
  {
   "cell_type": "code",
   "execution_count": 294,
   "metadata": {},
   "outputs": [
    {
     "data": {
      "text/plain": [
       "'abc'"
      ]
     },
     "execution_count": 294,
     "metadata": {},
     "output_type": "execute_result"
    }
   ],
   "source": [
    "strg = \"abc\"\n",
    "new_text = strg[0:] + strg[:0]\n",
    "new_text"
   ]
  },
  {
   "cell_type": "code",
   "execution_count": 295,
   "metadata": {},
   "outputs": [
    {
     "data": {
      "text/plain": [
       "'bca'"
      ]
     },
     "execution_count": 295,
     "metadata": {},
     "output_type": "execute_result"
    }
   ],
   "source": [
    "strg = \"abc\"\n",
    "new_text = strg[1:] + strg[:1]\n",
    "new_text"
   ]
  },
  {
   "cell_type": "code",
   "execution_count": 296,
   "metadata": {},
   "outputs": [
    {
     "data": {
      "text/plain": [
       "'cab'"
      ]
     },
     "execution_count": 296,
     "metadata": {},
     "output_type": "execute_result"
    }
   ],
   "source": [
    "strg = \"abc\"\n",
    "new_text = strg[2:] + strg[:2]\n",
    "new_text"
   ]
  },
  {
   "cell_type": "markdown",
   "metadata": {},
   "source": [
    "\n",
    "# L2: Triple X - 7kyu\n",
    "https://www.codewars.com/kata/568dc69683322417eb00002c"
   ]
  },
  {
   "cell_type": "markdown",
   "metadata": {},
   "source": [
    "\n",
    "## Solution 1."
   ]
  },
  {
   "cell_type": "code",
   "execution_count": 100,
   "metadata": {},
   "outputs": [],
   "source": [
    "def triple_x(s):\n",
    "    # find the first instance of \"x\"\n",
    "    first = s.find('x')\n",
    "    \n",
    "    # get the first x and the following two characters after it:\n",
    "    three_xs = s[int(first) : int(first)+3]\n",
    "    \n",
    "    if three_xs == 'xxx':\n",
    "        return True\n",
    "    else:\n",
    "        return False"
   ]
  },
  {
   "cell_type": "markdown",
   "metadata": {},
   "source": [
    "## Learning\n",
    "\n",
    "The <b>index() method finds the first occurrence of the specified value</b>.\n",
    "\n",
    "The index() method raises an exception if the value is not found.\n",
    "\n",
    "The index() method is almost the same as the find() method, the only difference is that the <b>find() method returns -1 if the value is not found</b>. The next solution is using this functionality.\n"
   ]
  },
  {
   "cell_type": "markdown",
   "metadata": {},
   "source": [
    "## Solution 2."
   ]
  },
  {
   "cell_type": "code",
   "execution_count": null,
   "metadata": {},
   "outputs": [],
   "source": [
    "def triple_x(s):\n",
    "    a = s.find(\"x\")\n",
    "    b = s.find(\"xxx\")\n",
    "    return a==b if (a>-1 and b>-1) else False"
   ]
  },
  {
   "cell_type": "markdown",
   "metadata": {},
   "source": [
    " "
   ]
  },
  {
   "cell_type": "markdown",
   "metadata": {},
   "source": [
    "# ROT13 - 5ky\n",
    "\n",
    "https://www.codewars.com/kata/52223df9e8f98c7aa7000062"
   ]
  },
  {
   "cell_type": "markdown",
   "metadata": {},
   "source": [
    "How can you tell an extrovert from an introvert at NSA? Va gur ryringbef, gur rkgebireg ybbxf ng gur BGURE thl'f fubrf.\n",
    "\n",
    "I found this joke on USENET, but the punchline is scrambled. Maybe you can decipher it? According to Wikipedia, ROT13 (http://en.wikipedia.org/wiki/ROT13) is frequently used to obfuscate jokes on USENET.\n",
    "\n",
    "Hint: For this task you're only supposed to substitue characters. Not spaces, punctuation, numbers etc. Test examples:\n",
    "\n",
    "rot13(\"EBG13 rknzcyr.\") == \"ROT13 example.\";\n",
    "rot13(\"This is my first ROT13 excercise!\" == \"Guvf vf zl svefg EBG13 rkprepvfr!\"\n",
    "\n",
    "\n",
    "http://exampleproblems.com/wiki/index.php/ROT13"
   ]
  },
  {
   "cell_type": "code",
   "execution_count": 12,
   "metadata": {},
   "outputs": [],
   "source": [
    "def rot13(message):\n",
    "    a = ''\n",
    "    for n in message:\n",
    "        if n.isupper(): # string method that checks if the character is in upper case\n",
    "            if n<='M':\n",
    "                a+=chr(ord(n)+13)\n",
    "                #print(a)\n",
    "            else:\n",
    "                a+=chr(ord(n)-13)\n",
    "                #print(a)\n",
    "        elif n.islower():\n",
    "            if n<='m':\n",
    "                a+=chr(ord(n)+13)\n",
    "            else:\n",
    "                a+=chr(ord(n)-13)\n",
    "        else:\n",
    "            a+=n\n",
    "    return a"
   ]
  },
  {
   "cell_type": "code",
   "execution_count": 13,
   "metadata": {
    "scrolled": true
   },
   "outputs": [
    {
     "name": "stdout",
     "output_type": "stream",
     "text": [
      "In the elevators, the extrovert looks at the OTHER guy's shoes.\n"
     ]
    }
   ],
   "source": [
    "print(rot13(\"Va gur ryringbef, gur rkgebireg ybbxf ng gur BGURE thl'f fubrf.\"))"
   ]
  },
  {
   "cell_type": "code",
   "execution_count": 94,
   "metadata": {},
   "outputs": [
    {
     "data": {
      "text/plain": [
       "'M'"
      ]
     },
     "execution_count": 94,
     "metadata": {},
     "output_type": "execute_result"
    }
   ],
   "source": [
    "n = \"M\"\n",
    "a =chr(ord(n))\n",
    "a"
   ]
  },
  {
   "cell_type": "code",
   "execution_count": 9,
   "metadata": {},
   "outputs": [
    {
     "name": "stdout",
     "output_type": "stream",
     "text": [
      "In the elevators,\n",
      "the extrovert looks at the OTHER guy's shoes.\n"
     ]
    }
   ],
   "source": [
    "print(rot13(\"Va gur ryringbef,\\ngur rkgebireg ybbxf ng gur BGURE thl'f fubrf.\"))"
   ]
  },
  {
   "cell_type": "code",
   "execution_count": 10,
   "metadata": {},
   "outputs": [
    {
     "name": "stdout",
     "output_type": "stream",
     "text": [
      "123\n"
     ]
    }
   ],
   "source": [
    "print(rot13(\"123\"))"
   ]
  },
  {
   "cell_type": "code",
   "execution_count": 20,
   "metadata": {},
   "outputs": [
    {
     "name": "stdout",
     "output_type": "stream",
     "text": [
      "This is actually the first kata I ever made. Thanks for finishing it! :)\n"
     ]
    }
   ],
   "source": [
    "print(rot13(\"Guvf vf npghnyyl gur svefg xngn V rire znqr. Gunaxf sbe svavfuvat vg! :)\"))"
   ]
  },
  {
   "cell_type": "code",
   "execution_count": 21,
   "metadata": {},
   "outputs": [
    {
     "name": "stdout",
     "output_type": "stream",
     "text": [
      "@[`{\n"
     ]
    }
   ],
   "source": [
    "print(rot13(\"@[`{\"))"
   ]
  },
  {
   "cell_type": "markdown",
   "metadata": {},
   "source": [
    "Python <b>chr()</b> Function\n",
    "\n",
    "Get the character that represents the unicode 97:\n",
    "\n",
    "x = chr(97)\n",
    "\n",
    "Syntax\n",
    "\n",
    "chr(number)"
   ]
  },
  {
   "cell_type": "code",
   "execution_count": 4,
   "metadata": {
    "scrolled": true
   },
   "outputs": [
    {
     "name": "stdout",
     "output_type": "stream",
     "text": [
      "a\n"
     ]
    }
   ],
   "source": [
    "x = chr(97)\n",
    "print(x)"
   ]
  },
  {
   "cell_type": "markdown",
   "metadata": {},
   "source": [
    "Convert back to unicode with the Python <b>ord()</b> function - returns the number representing the unicode code of a specified character.\n",
    "\n",
    "Syntax\n",
    "\n",
    "ord(character)\n",
    "\n",
    "Return the integer that represents the character \"E\":"
   ]
  },
  {
   "cell_type": "code",
   "execution_count": 79,
   "metadata": {},
   "outputs": [
    {
     "data": {
      "text/plain": [
       "69"
      ]
     },
     "execution_count": 79,
     "metadata": {},
     "output_type": "execute_result"
    }
   ],
   "source": [
    "x = ord(\"E\")\n",
    "x"
   ]
  },
  {
   "cell_type": "code",
   "execution_count": 34,
   "metadata": {
    "scrolled": true
   },
   "outputs": [
    {
     "data": {
      "text/plain": [
       "97"
      ]
     },
     "execution_count": 34,
     "metadata": {},
     "output_type": "execute_result"
    }
   ],
   "source": [
    "x = chr(97)\n",
    "ord(x)"
   ]
  },
  {
   "cell_type": "markdown",
   "metadata": {},
   "source": [
    "## Solution 2."
   ]
  },
  {
   "cell_type": "code",
   "execution_count": 10,
   "metadata": {},
   "outputs": [],
   "source": [
    "def rot13(message):\n",
    "    code = 'ABCDEFGHIJKLMNOPQRSTUVWXYZabcdefghijklmnopqrstuvwxyz'\n",
    "    decode = 'NOPQRSTUVWXYZABCDEFGHIJKLMnopqrstuvwxyzabcdefghijklm'\n",
    "    final = message.maketrans(code,decode)\n",
    "    return message.translate(final)"
   ]
  },
  {
   "cell_type": "code",
   "execution_count": 11,
   "metadata": {},
   "outputs": [
    {
     "name": "stdout",
     "output_type": "stream",
     "text": [
      "In the elevators, the extrovert looks at the OTHER guy's shoes.\n"
     ]
    }
   ],
   "source": [
    "print(rot13(\"Va gur ryringbef, gur rkgebireg ybbxf ng gur BGURE thl'f fubrf.\"))"
   ]
  },
  {
   "cell_type": "markdown",
   "metadata": {},
   "source": [
    "Example: The <b>maketrans()</b> method returns a mapping table that can be used with the <b>translate()</b> method to replace specified characters.\n",
    "\n",
    "Create a mapping table, and use it in the translate() method to replace any \"S\" characters with a \"P\" character:"
   ]
  },
  {
   "cell_type": "code",
   "execution_count": 15,
   "metadata": {},
   "outputs": [
    {
     "name": "stdout",
     "output_type": "stream",
     "text": [
      "Hello Pam!\n"
     ]
    }
   ],
   "source": [
    "txt = \"Hello Sam!\"\n",
    "mytable = txt.maketrans(\"S\", \"P\")\n",
    "print(txt.translate(mytable))"
   ]
  },
  {
   "cell_type": "markdown",
   "metadata": {},
   "source": [
    "The maketrans() method itself returns a dictionary describing each replacement, in unicode:"
   ]
  },
  {
   "cell_type": "code",
   "execution_count": 18,
   "metadata": {},
   "outputs": [
    {
     "name": "stdout",
     "output_type": "stream",
     "text": [
      "{65: 78, 66: 79, 67: 80, 68: 81, 69: 82, 70: 83, 71: 84, 72: 85, 73: 86, 74: 87, 75: 88, 76: 89, 77: 90, 78: 65, 79: 66, 80: 67, 81: 68, 82: 69, 83: 70, 84: 71, 85: 72, 86: 73, 87: 74, 88: 75, 89: 76, 90: 77, 97: 110, 98: 111, 99: 112, 100: 113, 101: 114, 102: 115, 103: 116, 104: 117, 105: 118, 106: 119, 107: 120, 108: 121, 109: 122, 110: 97, 111: 98, 112: 99, 113: 100, 114: 101, 115: 102, 116: 103, 117: 104, 118: 105, 119: 106, 120: 107, 121: 108, 122: 109}\n"
     ]
    }
   ],
   "source": [
    "message = \"Hello\"\n",
    "code = 'ABCDEFGHIJKLMNOPQRSTUVWXYZabcdefghijklmnopqrstuvwxyz'\n",
    "decode = 'NOPQRSTUVWXYZABCDEFGHIJKLMnopqrstuvwxyzabcdefghijklm'\n",
    "final = message.maketrans(code,decode)\n",
    "print(final)"
   ]
  },
  {
   "cell_type": "markdown",
   "metadata": {},
   "source": [
    "  "
   ]
  },
  {
   "cell_type": "markdown",
   "metadata": {},
   "source": [
    "# Zalgo text reader - 7kyu\n",
    "\n",
    "https://www.codewars.com/kata/588fe9eaadbbfb44b70001fc"
   ]
  },
  {
   "attachments": {
    "image.png": {
     "image/png": "[encoded data removed]"
    }
   },
   "cell_type": "markdown",
   "metadata": {},
   "source": [
    "Zalgo text is text that leaks into our plane of existence from a corrupted dimension of Unicode. For example:\n",
    "\n",
    "![image.png](attachment:image.png)\n",
    "\n",
    "Complete the function that converts a string of Zalgo text into a string interpretable by our mortal eyes. For example, the string above would be converted into:\n",
    "\n",
    "Have a great day!\n",
    "\n",
    "The converted string should only feature ASCII characters."
   ]
  },
  {
   "cell_type": "markdown",
   "metadata": {},
   "source": [
    "<b>Solution:</b>"
   ]
  },
  {
   "cell_type": "code",
   "execution_count": 9,
   "metadata": {},
   "outputs": [],
   "source": [
    "import string\n",
    "\n",
    "def read_zalgo(zalgotext):\n",
    "    \n",
    "    printable = set(string.printable)\n",
    "    \n",
    "    return ''.join(filter(lambda x: x in printable, zalgotext))"
   ]
  },
  {
   "cell_type": "markdown",
   "metadata": {},
   "source": [
    "<b>Solution blocks:</b>\n",
    "\n",
    "What is Zalgo text?\n",
    "\n",
    "Zalgo text is digital text that has been modified with combining characters (Unicode symbols that are generally used to stack diacritics above and below letters) to appear creepy or glitchy.\n",
    "\n",
    "1. filter()\n",
    "\n",
    "To solve this Kata I need to remove all non-ASCII characters from the Zalgo text.\n",
    "\n",
    "The filter() function returns an iterator were the items are filtered through a function to test if the item is accepted or not.\n",
    "\n",
    "Syntax\n",
    "\n",
    "filter(function, iterable)\n",
    "\n",
    "\n",
    "2. set + string.printable\n",
    "\n",
    "String of ASCII characters which are considered printable. This is a combination of digits, ascii_letters, punctuation, and whitespace.\n",
    "\n",
    "https://docs.python.org/3/library/string.html#string.printable"
   ]
  },
  {
   "cell_type": "code",
   "execution_count": 15,
   "metadata": {},
   "outputs": [
    {
     "name": "stdout",
     "output_type": "stream",
     "text": [
      "0123456789abcdefghijklmnopqrstuvwxyzABCDEFGHIJKLMNOPQRSTUVWXYZ!\"#$%&'()*+,-./:;<=>?@[\\]^_`{|}~ \t\n",
      "\r\n",
      "\u000b",
      "\n",
      "\f",
      "\n",
      "\n"
     ]
    }
   ],
   "source": [
    "printable = string.printable\n",
    "print(printable)"
   ]
  },
  {
   "cell_type": "markdown",
   "metadata": {},
   "source": [
    "The set() function creates a set object."
   ]
  },
  {
   "cell_type": "code",
   "execution_count": 14,
   "metadata": {
    "scrolled": false
   },
   "outputs": [
    {
     "name": "stdout",
     "output_type": "stream",
     "text": [
      "{'s', '\\n', '/', 'v', '^', '\\t', 'S', '\"', 'b', 'X', '\\x0c', '6', '!', ';', ',', '0', '&', 'C', 'T', 'c', 'g', 'O', 'i', '|', '>', 'w', 'J', 'L', '`', 'K', '\\\\', 'z', 'e', '@', '<', '2', '.', '-', 'a', 'V', '4', 'j', 'U', ']', '\\x0b', '}', 'H', 'o', 'd', '1', 'F', '{', '9', ' ', 't', 'x', 'R', '[', '$', 'p', 'Q', 'E', 'A', '\\r', ')', '*', '5', 'D', 'q', 'N', '3', 'k', ':', 'M', '?', '~', 'u', 'y', 'P', 'G', 'W', 'Y', 'r', 'l', 'm', 'B', '_', 'f', 'Z', '8', 'I', '+', '%', '=', '#', '(', '7', 'h', \"'\", 'n'}\n"
     ]
    }
   ],
   "source": [
    "printable = set(string.printable)\n",
    "print(printable)"
   ]
  },
  {
   "cell_type": "markdown",
   "metadata": {},
   "source": [
    "3. lambda\n",
    "\n",
    "A lambda function is a small anonymous function.\n",
    "\n",
    "A lambda function can take any number of arguments, but can only have one expression.\n",
    "\n",
    "Syntax\n",
    "\n",
    "lambda arguments : expression"
   ]
  },
  {
   "cell_type": "markdown",
   "metadata": {},
   "source": [
    "4. .join\n",
    "\n",
    "The join() method takes all items in an iterable and joins them into one string.\n",
    "\n",
    "A string must be specified as the separator.\n",
    "\n",
    "Syntax\n",
    "\n",
    "string.join(iterable)"
   ]
  }
 ],
 "metadata": {
  "kernelspec": {
   "display_name": "Python 3",
   "language": "python",
   "name": "python3"
  },
  "language_info": {
   "codemirror_mode": {
    "name": "ipython",
    "version": 3
   },
   "file_extension": ".py",
   "mimetype": "text/x-python",
   "name": "python",
   "nbconvert_exporter": "python",
   "pygments_lexer": "ipython3",
   "version": "3.8.10"
  }
 },
 "nbformat": 4,
 "nbformat_minor": 4
}
