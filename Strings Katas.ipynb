{
 "cells": [
  {
   "cell_type": "markdown",
   "metadata": {},
   "source": [
    "# Todo:\n",
    "\n",
    "https://www.codewars.com/kata/594901ba44645fd7bd00005f\n",
    "https://www.codewars.com/kata/572b82bf4903c13b1b001079\n",
    "https://www.codewars.com/kata/5aa736a455f906981800360d\n",
    "https://www.codewars.com/kata/54ff3102c1bad923760001f3\n",
    "https://www.codewars.com/kata/57cfdf34902f6ba3d300001e/train/python\n",
    "https://www.codewars.com/kata/5547929140907378f9000039\n",
    "https://www.codewars.com/kata/5966e33c4e686b508700002d\n"
   ]
  },
  {
   "cell_type": "markdown",
   "metadata": {},
   "source": [
    "# Sum The Strings - 8 Kyu\n",
    "Create a function that takes 2 nonnegative integers in form of a string as an input, and outputs the sum (also as a string):\n",
    "Example: (Input1, Input2 -->Output)\n",
    "\n",
    "Notes:\n",
    "If either input is an empty string, consider it as zero.\n",
    "Inputs and the expected output will never exceed the signed 32-bit integer limit (2^31 - 1)"
   ]
  },
  {
   "cell_type": "code",
   "execution_count": null,
   "metadata": {},
   "outputs": [],
   "source": [
    "def sum_str(a, b):\n",
    "    \n",
    "    if a == '' and b == '':\n",
    "        return str(0)\n",
    "    elif a == '':\n",
    "        return b\n",
    "    elif b == '':\n",
    "        return a\n",
    "    else:\n",
    "        sum = int(a) + int(b)\n",
    "        return str(sum)"
   ]
  },
  {
   "cell_type": "markdown",
   "metadata": {},
   "source": [
    "# Count vowels in a string - 7Kyu\n",
    "\n",
    "Write a function count_vowels to count the number of vowels in a given string.\n",
    "\n",
    "Notes:\n",
    "Return nil or None for non-string inputs.\n",
    "Return 0 if the parameter is omitted."
   ]
  },
  {
   "cell_type": "code",
   "execution_count": 2,
   "metadata": {
    "scrolled": true
   },
   "outputs": [
    {
     "data": {
      "text/plain": [
       "6"
      ]
     },
     "execution_count": 2,
     "metadata": {},
     "output_type": "execute_result"
    }
   ],
   "source": [
    "def count_vowels(s = ''):\n",
    "    vowels = [\"a\",\"e\",\"o\",\"u\",\"i\"] # create a list of vowels\n",
    "    # create counter variable to keep track of values\n",
    "    # while the loop is iterating values in the list\n",
    "    counter = 0 \n",
    "    try:\n",
    "        s = s.lower() \n",
    "        for char in s:\n",
    "            if char in vowels:\n",
    "                counter +=1\n",
    "        return counter\n",
    "    except AttributeError:\n",
    "        return None\n",
    "count_vowels(\"aAbcdesdeeEfg\")"
   ]
  },
  {
   "cell_type": "markdown",
   "metadata": {},
   "source": [
    "## Learning: AttributeError\n",
    "\n",
    "AttributeError can be defined as an error that is raised when an attribute reference or assignment fails. Attribute errors in Python are generally raised when an invalid attribute reference is made.\n",
    "Raised when an attribute reference (see Attribute references) or assignment fails. (When an object does not support attribute references or attribute assignments at all, TypeError is raised.)\n",
    "\n",
    "AttribureError is used in the above solution to address the \"Return nil or None for non-string inputs.\" part of the kata."
   ]
  },
  {
   "cell_type": "code",
   "execution_count": null,
   "metadata": {},
   "outputs": [],
   "source": []
  },
  {
   "cell_type": "markdown",
   "metadata": {},
   "source": [
    "# Grandma learning to text\n",
    "\n",
    "https://www.codewars.com/kata/5a043fbef3251a5a2b0002b0/python"
   ]
  },
  {
   "cell_type": "markdown",
   "metadata": {},
   "source": [
    "## Solution 1."
   ]
  },
  {
   "cell_type": "code",
   "execution_count": 219,
   "metadata": {},
   "outputs": [
    {
     "data": {
      "text/plain": [
       "['TOO', 'TOo', 'ToO', 'Too', 'tOO', 'tOo', 'toO', 'too']"
      ]
     },
     "execution_count": 219,
     "metadata": {},
     "output_type": "execute_result"
    }
   ],
   "source": [
    "# https://stackoverflow.com/questions/11144389/find-all-upper-lower-and-mixed-case-combinations-of-a-string\n",
    "\n",
    "import itertools\n",
    "\n",
    "s = 'too'\n",
    "too_list = list(map(''.join, itertools.product(*zip(s.upper(), s.lower()))))\n",
    "too_list"
   ]
  },
  {
   "cell_type": "code",
   "execution_count": 220,
   "metadata": {},
   "outputs": [
    {
     "data": {
      "text/plain": [
       "['TO', 'To', 'tO', 'to']"
      ]
     },
     "execution_count": 220,
     "metadata": {},
     "output_type": "execute_result"
    }
   ],
   "source": [
    "s = 'to'\n",
    "to_list = list(map(''.join, itertools.product(*zip(s.upper(), s.lower()))))\n",
    "to_list"
   ]
  },
  {
   "cell_type": "code",
   "execution_count": 221,
   "metadata": {},
   "outputs": [
    {
     "data": {
      "text/plain": [
       "['TWO', 'TWo', 'TwO', 'Two', 'tWO', 'tWo', 'twO', 'two']"
      ]
     },
     "execution_count": 221,
     "metadata": {},
     "output_type": "execute_result"
    }
   ],
   "source": [
    "s = 'two'\n",
    "two_list = list(map(''.join, itertools.product(*zip(s.upper(), s.lower()))))\n",
    "two_list"
   ]
  },
  {
   "cell_type": "code",
   "execution_count": 225,
   "metadata": {},
   "outputs": [
    {
     "data": {
      "text/plain": [
       "{'TOO': '2',\n",
       " 'TOo': '2',\n",
       " 'ToO': '2',\n",
       " 'Too': '2',\n",
       " 'tOO': '2',\n",
       " 'tOo': '2',\n",
       " 'toO': '2',\n",
       " 'too': '2',\n",
       " 'TO': '2',\n",
       " 'To': '2',\n",
       " 'tO': '2',\n",
       " 'to': '2',\n",
       " 'TWO': '2',\n",
       " 'TWo': '2',\n",
       " 'TwO': '2',\n",
       " 'Two': '2',\n",
       " 'tWO': '2',\n",
       " 'tWo': '2',\n",
       " 'twO': '2',\n",
       " 'two': '2'}"
      ]
     },
     "execution_count": 225,
     "metadata": {},
     "output_type": "execute_result"
    }
   ],
   "source": [
    "all_2s = too_list + to_list + two_list\n",
    "dic = dict.fromkeys(all_2s, \"2\")\n",
    "dic"
   ]
  },
  {
   "cell_type": "code",
   "execution_count": 242,
   "metadata": {},
   "outputs": [
    {
     "data": {
      "text/plain": [
       "'I love 2 text 2'"
      ]
     },
     "execution_count": 242,
     "metadata": {},
     "output_type": "execute_result"
    }
   ],
   "source": [
    "s = \"I love to text TO\"\n",
    "\n",
    "def textin(s):\n",
    "    for key, value in dic.items():\n",
    "        s = s.replace(key, value)\n",
    "    return s\n",
    "\n",
    "textin(s)\n",
    "\n",
    "# # Iterate over all key-value pairs in dictionary \n",
    "# for key, value in dic.items():\n",
    "    \n",
    "#     # Replace key character with value character in string\n",
    "#     s = s.replace(key, value)\n",
    "\n",
    "# print(s)"
   ]
  },
  {
   "cell_type": "code",
   "execution_count": 247,
   "metadata": {},
   "outputs": [],
   "source": [
    "def textin(s):\n",
    "    dic = {'TOO': '2',\n",
    " 'TOo': '2',\n",
    " 'ToO': '2',\n",
    " 'Too': '2',\n",
    " 'tOO': '2',\n",
    " 'tOo': '2',\n",
    " 'toO': '2',\n",
    " 'too': '2',\n",
    " 'TO': '2',\n",
    " 'To': '2',\n",
    " 'tO': '2',\n",
    " 'to': '2',\n",
    " 'TWO': '2',\n",
    " 'TWo': '2',\n",
    " 'TwO': '2',\n",
    " 'Two': '2',\n",
    " 'tWO': '2',\n",
    " 'tWo': '2',\n",
    " 'twO': '2',\n",
    " 'two': '2'}\n",
    "    for key, value in dic.items():\n",
    "        s = s.replace(key, value)\n",
    "    return s"
   ]
  },
  {
   "cell_type": "code",
   "execution_count": 255,
   "metadata": {},
   "outputs": [
    {
     "data": {
      "text/plain": [
       "'I love 2 text'"
      ]
     },
     "execution_count": 255,
     "metadata": {},
     "output_type": "execute_result"
    }
   ],
   "source": [
    "textin('I love to text')"
   ]
  },
  {
   "cell_type": "code",
   "execution_count": 254,
   "metadata": {},
   "outputs": [
    {
     "data": {
      "text/plain": [
       "'see you 2morrow'"
      ]
     },
     "execution_count": 254,
     "metadata": {},
     "output_type": "execute_result"
    }
   ],
   "source": [
    "textin('see you tomorrow')"
   ]
  },
  {
   "cell_type": "code",
   "execution_count": 253,
   "metadata": {},
   "outputs": [
    {
     "data": {
      "text/plain": [
       "'look at that oc2pus'"
      ]
     },
     "execution_count": 253,
     "metadata": {},
     "output_type": "execute_result"
    }
   ],
   "source": [
    "textin('look at that octopus')"
   ]
  },
  {
   "cell_type": "code",
   "execution_count": 251,
   "metadata": {},
   "outputs": [
    {
     "data": {
      "text/plain": [
       "'2 2 2 2'"
      ]
     },
     "execution_count": 251,
     "metadata": {},
     "output_type": "execute_result"
    }
   ],
   "source": [
    "textin('TwO ToO tWo tOo')"
   ]
  },
  {
   "cell_type": "code",
   "execution_count": 252,
   "metadata": {},
   "outputs": [
    {
     "data": {
      "text/plain": [
       "'BECAUSE I WANT 2'"
      ]
     },
     "execution_count": 252,
     "metadata": {},
     "output_type": "execute_result"
    }
   ],
   "source": [
    "textin('BECAUSE I WANT TO')"
   ]
  },
  {
   "cell_type": "markdown",
   "metadata": {},
   "source": [
    "## Solution 2."
   ]
  },
  {
   "cell_type": "code",
   "execution_count": 271,
   "metadata": {},
   "outputs": [],
   "source": [
    "import re\n",
    "\n",
    "def textin2(txt):\n",
    "  return re.sub(r'(two|too|to)', '2', txt, flags=re.I) #re.I (ignore case)"
   ]
  },
  {
   "cell_type": "code",
   "execution_count": 272,
   "metadata": {},
   "outputs": [
    {
     "data": {
      "text/plain": [
       "'2 2 2 2'"
      ]
     },
     "execution_count": 272,
     "metadata": {},
     "output_type": "execute_result"
    }
   ],
   "source": [
    "textin2('TwO ToO tWo tOo')"
   ]
  },
  {
   "cell_type": "markdown",
   "metadata": {},
   "source": [
    "The re module offers a set of functions that allows us to search a string for a match:\n",
    "\n",
    "e.g.: sub() Replaces one or many matches with a string\n",
    "\n"
   ]
  },
  {
   "cell_type": "code",
   "execution_count": null,
   "metadata": {},
   "outputs": [],
   "source": [
    " "
   ]
  },
  {
   "cell_type": "markdown",
   "metadata": {},
   "source": [
    "# Scrolling Text\n",
    "https://www.codewars.com/kata/5a995c2aba1bb57f660001fd/train/python\n",
    "\n",
    "Your task is to complete the function which takes a string, and returns an array with all possible rotations of the given string, in uppercase.\n",
    "\n",
    "Example: \n",
    "\n",
    "scrollingText(\"codewars\") should return:\n",
    "\n",
    "[ \"CODEWARS\",\n",
    "  \"ODEWARSC\",\n",
    "  \"DEWARSCO\",\n",
    "  \"EWARSCOD\",\n",
    "  \"WARSCODE\",\n",
    "  \"ARSCODEW\"\n",
    "  \"RSCODEWA\",\n",
    "  \"SCODEWAR\" ]"
   ]
  },
  {
   "cell_type": "code",
   "execution_count": 242,
   "metadata": {},
   "outputs": [],
   "source": [
    "def scrolling_text(text):\n",
    "    text = text.upper()\n",
    "    return [ text[i:] + text[:i] for i in range(len(text)) ]"
   ]
  },
  {
   "cell_type": "code",
   "execution_count": 256,
   "metadata": {},
   "outputs": [],
   "source": [
    "text = \"abc\" "
   ]
  },
  {
   "cell_type": "code",
   "execution_count": 257,
   "metadata": {},
   "outputs": [],
   "source": [
    "def scrolling_text(text):\n",
    "    text = text.upper()\n",
    "    scrolling_list = []\n",
    "    \n",
    "    for i in range(len(text)):\n",
    "        print(i)\n",
    "        scrolling_list.append(text[i:] + text[:i])\n",
    "        print(scrolling_list)\n",
    "    return scrolling_list\n"
   ]
  },
  {
   "cell_type": "code",
   "execution_count": 258,
   "metadata": {},
   "outputs": [
    {
     "name": "stdout",
     "output_type": "stream",
     "text": [
      "0\n",
      "['ABC']\n",
      "1\n",
      "['ABC', 'BCA']\n",
      "2\n",
      "['ABC', 'BCA', 'CAB']\n"
     ]
    },
    {
     "data": {
      "text/plain": [
       "['ABC', 'BCA', 'CAB']"
      ]
     },
     "execution_count": 258,
     "metadata": {},
     "output_type": "execute_result"
    }
   ],
   "source": [
    "scrolling_text(text)"
   ]
  },
  {
   "cell_type": "markdown",
   "metadata": {},
   "source": [
    "<b>Solution Blocks</b>"
   ]
  },
  {
   "cell_type": "code",
   "execution_count": 259,
   "metadata": {},
   "outputs": [],
   "source": [
    "def rotate(strg, n):\n",
    "    return strg[n:] + strg[:n]"
   ]
  },
  {
   "cell_type": "code",
   "execution_count": 260,
   "metadata": {},
   "outputs": [
    {
     "data": {
      "text/plain": [
       "'OHELL'"
      ]
     },
     "execution_count": 260,
     "metadata": {},
     "output_type": "execute_result"
    }
   ],
   "source": [
    "rotate('HELLO', 4)  # 'OHELL'"
   ]
  },
  {
   "cell_type": "markdown",
   "metadata": {},
   "source": [
    "The range() function returns a sequence of numbers, starting from 0 by default, and increments by 1 (by default), and stops before a specified number.\n",
    "\n",
    "Syntax\n",
    "\n",
    "range(start, stop, step)"
   ]
  },
  {
   "cell_type": "code",
   "execution_count": 293,
   "metadata": {},
   "outputs": [
    {
     "name": "stdout",
     "output_type": "stream",
     "text": [
      "0\n",
      "1\n",
      "2\n"
     ]
    }
   ],
   "source": [
    "text = \"abc\"\n",
    "\n",
    "for i in range(len(text)):\n",
    "    print(i)"
   ]
  },
  {
   "cell_type": "code",
   "execution_count": 294,
   "metadata": {},
   "outputs": [
    {
     "data": {
      "text/plain": [
       "'abc'"
      ]
     },
     "execution_count": 294,
     "metadata": {},
     "output_type": "execute_result"
    }
   ],
   "source": [
    "strg = \"abc\"\n",
    "new_text = strg[0:] + strg[:0]\n",
    "new_text"
   ]
  },
  {
   "cell_type": "code",
   "execution_count": 295,
   "metadata": {},
   "outputs": [
    {
     "data": {
      "text/plain": [
       "'bca'"
      ]
     },
     "execution_count": 295,
     "metadata": {},
     "output_type": "execute_result"
    }
   ],
   "source": [
    "strg = \"abc\"\n",
    "new_text = strg[1:] + strg[:1]\n",
    "new_text"
   ]
  },
  {
   "cell_type": "code",
   "execution_count": 296,
   "metadata": {},
   "outputs": [
    {
     "data": {
      "text/plain": [
       "'cab'"
      ]
     },
     "execution_count": 296,
     "metadata": {},
     "output_type": "execute_result"
    }
   ],
   "source": [
    "strg = \"abc\"\n",
    "new_text = strg[2:] + strg[:2]\n",
    "new_text"
   ]
  },
  {
   "cell_type": "markdown",
   "metadata": {},
   "source": [
    "\n",
    "# L2: Triple X - 7kyu\n",
    "https://www.codewars.com/kata/568dc69683322417eb00002c"
   ]
  },
  {
   "cell_type": "markdown",
   "metadata": {},
   "source": [
    "\n",
    "## Solution 1."
   ]
  },
  {
   "cell_type": "code",
   "execution_count": 100,
   "metadata": {},
   "outputs": [],
   "source": [
    "def triple_x(s):\n",
    "    # find the first instance of \"x\"\n",
    "    first = s.find('x')\n",
    "    \n",
    "    # get the first x and the following two characters after it:\n",
    "    three_xs = s[int(first) : int(first)+3]\n",
    "    \n",
    "    if three_xs == 'xxx':\n",
    "        return True\n",
    "    else:\n",
    "        return False"
   ]
  },
  {
   "cell_type": "markdown",
   "metadata": {},
   "source": [
    "## Learning\n",
    "\n",
    "The <b>index() method finds the first occurrence of the specified value</b>.\n",
    "\n",
    "The index() method raises an exception if the value is not found.\n",
    "\n",
    "The index() method is almost the same as the find() method, the only difference is that the <b>find() method returns -1 if the value is not found</b>. The next solution is using this functionality.\n"
   ]
  },
  {
   "cell_type": "markdown",
   "metadata": {},
   "source": [
    "## Solution 2."
   ]
  },
  {
   "cell_type": "code",
   "execution_count": null,
   "metadata": {},
   "outputs": [],
   "source": [
    "def triple_x(s):\n",
    "    a = s.find(\"x\")\n",
    "    b = s.find(\"xxx\")\n",
    "    return a==b if (a>-1 and b>-1) else False"
   ]
  },
  {
   "cell_type": "markdown",
   "metadata": {},
   "source": []
  },
  {
   "cell_type": "markdown",
   "metadata": {},
   "source": [
    "# ROT13 - 5ky\n",
    "\n",
    "https://www.codewars.com/kata/52223df9e8f98c7aa7000062"
   ]
  },
  {
   "cell_type": "markdown",
   "metadata": {},
   "source": [
    "How can you tell an extrovert from an introvert at NSA? Va gur ryringbef, gur rkgebireg ybbxf ng gur BGURE thl'f fubrf.\n",
    "\n",
    "I found this joke on USENET, but the punchline is scrambled. Maybe you can decipher it? According to Wikipedia, ROT13 (http://en.wikipedia.org/wiki/ROT13) is frequently used to obfuscate jokes on USENET.\n",
    "\n",
    "Hint: For this task you're only supposed to substitue characters. Not spaces, punctuation, numbers etc. Test examples:\n",
    "\n",
    "rot13(\"EBG13 rknzcyr.\") == \"ROT13 example.\";\n",
    "rot13(\"This is my first ROT13 excercise!\" == \"Guvf vf zl svefg EBG13 rkprepvfr!\"\n",
    "\n",
    "\n",
    "http://exampleproblems.com/wiki/index.php/ROT13"
   ]
  },
  {
   "cell_type": "code",
   "execution_count": 12,
   "metadata": {},
   "outputs": [],
   "source": [
    "def rot13(message):\n",
    "    a = ''\n",
    "    for n in message:\n",
    "        if n.isupper(): # string method that checks if the character is in upper case\n",
    "            if n<='M':\n",
    "                a+=chr(ord(n)+13)\n",
    "                #print(a)\n",
    "            else:\n",
    "                a+=chr(ord(n)-13)\n",
    "                #print(a)\n",
    "        elif n.islower():\n",
    "            if n<='m':\n",
    "                a+=chr(ord(n)+13)\n",
    "            else:\n",
    "                a+=chr(ord(n)-13)\n",
    "        else:\n",
    "            a+=n\n",
    "    return a"
   ]
  },
  {
   "cell_type": "code",
   "execution_count": 13,
   "metadata": {
    "scrolled": true
   },
   "outputs": [
    {
     "name": "stdout",
     "output_type": "stream",
     "text": [
      "In the elevators, the extrovert looks at the OTHER guy's shoes.\n"
     ]
    }
   ],
   "source": [
    "print(rot13(\"Va gur ryringbef, gur rkgebireg ybbxf ng gur BGURE thl'f fubrf.\"))"
   ]
  },
  {
   "cell_type": "code",
   "execution_count": 94,
   "metadata": {},
   "outputs": [
    {
     "data": {
      "text/plain": [
       "'M'"
      ]
     },
     "execution_count": 94,
     "metadata": {},
     "output_type": "execute_result"
    }
   ],
   "source": [
    "n = \"M\"\n",
    "a =chr(ord(n))\n",
    "a"
   ]
  },
  {
   "cell_type": "code",
   "execution_count": 9,
   "metadata": {},
   "outputs": [
    {
     "name": "stdout",
     "output_type": "stream",
     "text": [
      "In the elevators,\n",
      "the extrovert looks at the OTHER guy's shoes.\n"
     ]
    }
   ],
   "source": [
    "print(rot13(\"Va gur ryringbef,\\ngur rkgebireg ybbxf ng gur BGURE thl'f fubrf.\"))"
   ]
  },
  {
   "cell_type": "code",
   "execution_count": 10,
   "metadata": {},
   "outputs": [
    {
     "name": "stdout",
     "output_type": "stream",
     "text": [
      "123\n"
     ]
    }
   ],
   "source": [
    "print(rot13(\"123\"))"
   ]
  },
  {
   "cell_type": "code",
   "execution_count": 20,
   "metadata": {},
   "outputs": [
    {
     "name": "stdout",
     "output_type": "stream",
     "text": [
      "This is actually the first kata I ever made. Thanks for finishing it! :)\n"
     ]
    }
   ],
   "source": [
    "print(rot13(\"Guvf vf npghnyyl gur svefg xngn V rire znqr. Gunaxf sbe svavfuvat vg! :)\"))"
   ]
  },
  {
   "cell_type": "code",
   "execution_count": 21,
   "metadata": {},
   "outputs": [
    {
     "name": "stdout",
     "output_type": "stream",
     "text": [
      "@[`{\n"
     ]
    }
   ],
   "source": [
    "print(rot13(\"@[`{\"))"
   ]
  },
  {
   "cell_type": "markdown",
   "metadata": {},
   "source": [
    "Python <b>chr()</b> Function\n",
    "\n",
    "Get the character that represents the unicode 97:\n",
    "\n",
    "x = chr(97)\n",
    "\n",
    "Syntax\n",
    "\n",
    "chr(number)"
   ]
  },
  {
   "cell_type": "code",
   "execution_count": 4,
   "metadata": {
    "scrolled": true
   },
   "outputs": [
    {
     "name": "stdout",
     "output_type": "stream",
     "text": [
      "a\n"
     ]
    }
   ],
   "source": [
    "x = chr(97)\n",
    "print(x)"
   ]
  },
  {
   "cell_type": "markdown",
   "metadata": {},
   "source": [
    "Convert back to unicode with the Python <b>ord()</b> function - returns the number representing the unicode code of a specified character.\n",
    "\n",
    "Syntax\n",
    "\n",
    "ord(character)\n",
    "\n",
    "Return the integer that represents the character \"E\":"
   ]
  },
  {
   "cell_type": "code",
   "execution_count": 79,
   "metadata": {},
   "outputs": [
    {
     "data": {
      "text/plain": [
       "69"
      ]
     },
     "execution_count": 79,
     "metadata": {},
     "output_type": "execute_result"
    }
   ],
   "source": [
    "x = ord(\"E\")\n",
    "x"
   ]
  },
  {
   "cell_type": "code",
   "execution_count": 34,
   "metadata": {
    "scrolled": true
   },
   "outputs": [
    {
     "data": {
      "text/plain": [
       "97"
      ]
     },
     "execution_count": 34,
     "metadata": {},
     "output_type": "execute_result"
    }
   ],
   "source": [
    "x = chr(97)\n",
    "ord(x)"
   ]
  },
  {
   "cell_type": "markdown",
   "metadata": {},
   "source": [
    "## Solution 2."
   ]
  },
  {
   "cell_type": "code",
   "execution_count": 10,
   "metadata": {},
   "outputs": [],
   "source": [
    "def rot13(message):\n",
    "    code = 'ABCDEFGHIJKLMNOPQRSTUVWXYZabcdefghijklmnopqrstuvwxyz'\n",
    "    decode = 'NOPQRSTUVWXYZABCDEFGHIJKLMnopqrstuvwxyzabcdefghijklm'\n",
    "    final = message.maketrans(code,decode)\n",
    "    return message.translate(final)"
   ]
  },
  {
   "cell_type": "code",
   "execution_count": 11,
   "metadata": {},
   "outputs": [
    {
     "name": "stdout",
     "output_type": "stream",
     "text": [
      "In the elevators, the extrovert looks at the OTHER guy's shoes.\n"
     ]
    }
   ],
   "source": [
    "print(rot13(\"Va gur ryringbef, gur rkgebireg ybbxf ng gur BGURE thl'f fubrf.\"))"
   ]
  },
  {
   "cell_type": "markdown",
   "metadata": {},
   "source": [
    "Example: The <b>maketrans()</b> method returns a mapping table that can be used with the <b>translate()</b> method to replace specified characters.\n",
    "\n",
    "Create a mapping table, and use it in the translate() method to replace any \"S\" characters with a \"P\" character:"
   ]
  },
  {
   "cell_type": "code",
   "execution_count": 15,
   "metadata": {},
   "outputs": [
    {
     "name": "stdout",
     "output_type": "stream",
     "text": [
      "Hello Pam!\n"
     ]
    }
   ],
   "source": [
    "txt = \"Hello Sam!\"\n",
    "mytable = txt.maketrans(\"S\", \"P\")\n",
    "print(txt.translate(mytable))"
   ]
  },
  {
   "cell_type": "markdown",
   "metadata": {},
   "source": [
    "The maketrans() method itself returns a dictionary describing each replacement, in unicode:"
   ]
  },
  {
   "cell_type": "code",
   "execution_count": 18,
   "metadata": {},
   "outputs": [
    {
     "name": "stdout",
     "output_type": "stream",
     "text": [
      "{65: 78, 66: 79, 67: 80, 68: 81, 69: 82, 70: 83, 71: 84, 72: 85, 73: 86, 74: 87, 75: 88, 76: 89, 77: 90, 78: 65, 79: 66, 80: 67, 81: 68, 82: 69, 83: 70, 84: 71, 85: 72, 86: 73, 87: 74, 88: 75, 89: 76, 90: 77, 97: 110, 98: 111, 99: 112, 100: 113, 101: 114, 102: 115, 103: 116, 104: 117, 105: 118, 106: 119, 107: 120, 108: 121, 109: 122, 110: 97, 111: 98, 112: 99, 113: 100, 114: 101, 115: 102, 116: 103, 117: 104, 118: 105, 119: 106, 120: 107, 121: 108, 122: 109}\n"
     ]
    }
   ],
   "source": [
    "message = \"Hello\"\n",
    "code = 'ABCDEFGHIJKLMNOPQRSTUVWXYZabcdefghijklmnopqrstuvwxyz'\n",
    "decode = 'NOPQRSTUVWXYZABCDEFGHIJKLMnopqrstuvwxyzabcdefghijklm'\n",
    "final = message.maketrans(code,decode)\n",
    "print(final)"
   ]
  },
  {
   "cell_type": "markdown",
   "metadata": {},
   "source": [
    "  "
   ]
  },
  {
   "cell_type": "markdown",
   "metadata": {},
   "source": [
    "# Zalgo text reader - 7kyu\n",
    "\n",
    "https://www.codewars.com/kata/588fe9eaadbbfb44b70001fc"
   ]
  },
  {
   "attachments": {
    "image.png": {
     "image/png": "[encoded data removed]"
    }
   },
   "cell_type": "markdown",
   "metadata": {},
   "source": [
    "Zalgo text is text that leaks into our plane of existence from a corrupted dimension of Unicode. For example:\n",
    "\n",
    "![image.png](attachment:image.png)\n",
    "\n",
    "Complete the function that converts a string of Zalgo text into a string interpretable by our mortal eyes. For example, the string above would be converted into:\n",
    "\n",
    "Have a great day!\n",
    "\n",
    "The converted string should only feature ASCII characters."
   ]
  },
  {
   "cell_type": "markdown",
   "metadata": {},
   "source": [
    "<b>Solution:</b>"
   ]
  },
  {
   "cell_type": "code",
   "execution_count": 9,
   "metadata": {},
   "outputs": [],
   "source": [
    "import string\n",
    "\n",
    "def read_zalgo(zalgotext):\n",
    "    \n",
    "    printable = set(string.printable)\n",
    "    \n",
    "    return ''.join(filter(lambda x: x in printable, zalgotext))"
   ]
  },
  {
   "cell_type": "markdown",
   "metadata": {},
   "source": [
    "<b>Solution blocks:</b>\n",
    "\n",
    "What is Zalgo text?\n",
    "\n",
    "Zalgo text is digital text that has been modified with combining characters (Unicode symbols that are generally used to stack diacritics above and below letters) to appear creepy or glitchy.\n",
    "\n",
    "1. filter()\n",
    "\n",
    "To solve this Kata I need to remove all non-ASCII characters from the Zalgo text.\n",
    "\n",
    "The filter() function returns an iterator were the items are filtered through a function to test if the item is accepted or not.\n",
    "\n",
    "Syntax\n",
    "\n",
    "filter(function, iterable)\n",
    "\n",
    "\n",
    "2. set + string.printable\n",
    "\n",
    "String of ASCII characters which are considered printable. This is a combination of digits, ascii_letters, punctuation, and whitespace.\n",
    "\n",
    "https://docs.python.org/3/library/string.html#string.printable"
   ]
  },
  {
   "cell_type": "code",
   "execution_count": 15,
   "metadata": {},
   "outputs": [
    {
     "name": "stdout",
     "output_type": "stream",
     "text": [
      "0123456789abcdefghijklmnopqrstuvwxyzABCDEFGHIJKLMNOPQRSTUVWXYZ!\"#$%&'()*+,-./:;<=>?@[\\]^_`{|}~ \t\n",
      "\r",
      "\u000b",
      "\f",
      "\n"
     ]
    }
   ],
   "source": [
    "printable = string.printable\n",
    "print(printable)"
   ]
  },
  {
   "cell_type": "markdown",
   "metadata": {},
   "source": [
    "The set() function creates a set object."
   ]
  },
  {
   "cell_type": "code",
   "execution_count": 14,
   "metadata": {
    "scrolled": false
   },
   "outputs": [
    {
     "name": "stdout",
     "output_type": "stream",
     "text": [
      "{'s', '\\n', '/', 'v', '^', '\\t', 'S', '\"', 'b', 'X', '\\x0c', '6', '!', ';', ',', '0', '&', 'C', 'T', 'c', 'g', 'O', 'i', '|', '>', 'w', 'J', 'L', '`', 'K', '\\\\', 'z', 'e', '@', '<', '2', '.', '-', 'a', 'V', '4', 'j', 'U', ']', '\\x0b', '}', 'H', 'o', 'd', '1', 'F', '{', '9', ' ', 't', 'x', 'R', '[', '$', 'p', 'Q', 'E', 'A', '\\r', ')', '*', '5', 'D', 'q', 'N', '3', 'k', ':', 'M', '?', '~', 'u', 'y', 'P', 'G', 'W', 'Y', 'r', 'l', 'm', 'B', '_', 'f', 'Z', '8', 'I', '+', '%', '=', '#', '(', '7', 'h', \"'\", 'n'}\n"
     ]
    }
   ],
   "source": [
    "printable = set(string.printable)\n",
    "print(printable)"
   ]
  },
  {
   "cell_type": "markdown",
   "metadata": {},
   "source": [
    "3. lambda\n",
    "\n",
    "A lambda function is a small anonymous function.\n",
    "\n",
    "A lambda function can take any number of arguments, but can only have one expression.\n",
    "\n",
    "Syntax\n",
    "\n",
    "lambda arguments : expression"
   ]
  },
  {
   "cell_type": "markdown",
   "metadata": {},
   "source": [
    "4. .join\n",
    "\n",
    "The join() method takes all items in an iterable and joins them into one string.\n",
    "\n",
    "A string must be specified as the separator.\n",
    "\n",
    "Syntax\n",
    "\n",
    "string.join(iterable)"
   ]
  }
 ],
 "metadata": {
  "kernelspec": {
   "display_name": "Python 3",
   "language": "python",
   "name": "python3"
  },
  "language_info": {
   "codemirror_mode": {
    "name": "ipython",
    "version": 3
   },
   "file_extension": ".py",
   "mimetype": "text/x-python",
   "name": "python",
   "nbconvert_exporter": "python",
   "pygments_lexer": "ipython3",
   "version": "3.7.6"
  }
 },
 "nbformat": 4,
 "nbformat_minor": 4
}
